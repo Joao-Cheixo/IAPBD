{
 "cells": [
  {
   "attachments": {},
   "cell_type": "markdown",
   "metadata": {},
   "source": [
    "Bactéria Candida albicans"
   ]
  },
  {
   "cell_type": "code",
   "execution_count": null,
   "metadata": {},
   "outputs": [],
   "source": [
    "import re\n",
    "from Bio import SeqIO\n",
    "from Bio.Seq import Seq\n",
    "from Bio.SeqRecord import SeqRecord\n",
    "from Bio import SeqFeature\n",
    "\n",
    "fonte = open(\"Calbicans.gb\",'r')\n",
    "locus = fonte.read()\n",
    "fonte.close()\n",
    "print( locus )"
   ]
  },
  {
   "cell_type": "code",
   "execution_count": 2,
   "metadata": {},
   "outputs": [
    {
     "name": "stdout",
     "output_type": "stream",
     "text": [
      "https://www.ncbi.nlm.nih.gov/nuccore/BD267550\n"
     ]
    }
   ],
   "source": [
    "existe = re.search(r'ACCESSION\\s+[^\\s]+', locus)\n",
    "if existe:\n",
    "    m = re.match(r'ACCESSION\\s+([^\\s]+)', existe[0] )\n",
    "    if m:\n",
    "        id = m.group(1)\n",
    "        print( \"https://www.ncbi.nlm.nih.gov/nuccore/{}\".format( id ) )\n",
    "else:\n",
    "    print( \"Padrão não encontrado\" )"
   ]
  },
  {
   "cell_type": "code",
   "execution_count": 3,
   "metadata": {},
   "outputs": [
    {
     "name": "stdout",
     "output_type": "stream",
     "text": [
      "BD267550 Candida albicans\n"
     ]
    }
   ],
   "source": [
    "flag = False\n",
    "source = \"\"\n",
    "locusid = \"\"\n",
    "fonte = open(\"Calbicans.gb\",'r')\n",
    "for linha in fonte:\n",
    "    if re.search(r\"^LOCUS\", linha):\n",
    "        s = re.match(r\"LOCUS\\s+([^ ]+)\", linha)\n",
    "        if s:\n",
    "            locusid = s.group(1)    \n",
    "    if re.search(r\"^SOURCE\", linha):\n",
    "        s = re.match(r\"SOURCE\\s+(.+)\", linha)\n",
    "        if s:\n",
    "            source = s.group(1)\n",
    "    if re.search(r\"//\", linha):\n",
    "        flag = False  \n",
    "    if re.search(r\"ORIGIN\", linha):\n",
    "        flag = True\n",
    "fonte.close()\n",
    "print( locusid, source)"
   ]
  },
  {
   "cell_type": "code",
   "execution_count": 4,
   "metadata": {},
   "outputs": [
    {
     "name": "stdout",
     "output_type": "stream",
     "text": [
      "Candida albicans SRB-7 \n"
     ]
    }
   ],
   "source": [
    "existe = re.findall(r'TITLE\\s+.*?(?=JOURNAL)', locus, re.DOTALL)\n",
    "if existe:\n",
    "    for title in existe:\n",
    "        m = re.match( r'TITLE\\s+(.+)', title, re.DOTALL )\n",
    "        print( re.sub(r'\\s+', ' ', m.group(1) ) )"
   ]
  },
  {
   "cell_type": "markdown",
   "metadata": {},
   "source": []
  },
  {
   "cell_type": "code",
   "execution_count": 5,
   "metadata": {},
   "outputs": [
    {
     "name": "stdout",
     "output_type": "stream",
     "text": [
      "ID:  BD267550.1\n",
      "Descrição:  Candida albicans SRB-7\n",
      "Tipo de molécula:  DNA\n",
      "Código do registo:  ['BD267550']\n"
     ]
    }
   ],
   "source": [
    "Calbicans = SeqIO.read(\"Calbicans.gb\", \"genbank\")\n",
    "\n",
    "print(\"ID: \", Calbicans.id)\n",
    "print(\"Descrição: \", Calbicans.description)\n",
    "print(\"Tipo de molécula: \", Calbicans.annotations['molecule_type'])\n",
    "print(\"Código do registo: \", Calbicans.annotations['accessions'])\n"
   ]
  },
  {
   "cell_type": "code",
   "execution_count": 6,
   "metadata": {},
   "outputs": [
    {
     "name": "stdout",
     "output_type": "stream",
     "text": [
      "Keywords:\n",
      " dict_keys(['molecule_type', 'topology', 'data_file_division', 'date', 'accessions', 'sequence_version', 'keywords', 'source', 'organism', 'taxonomy', 'references', 'comment'])\n",
      "Tamanho da sequência:  1672 pb\n",
      "[]\n",
      "12\n"
     ]
    }
   ],
   "source": [
    "print (\"Keywords:\\n\",Calbicans.annotations.keys())\n",
    "print(\"Tamanho da sequência: \", len(Calbicans), \"pb\")\n",
    "print(Calbicans.dbxrefs)\n",
    "print(len(Calbicans.annotations) )\n"
   ]
  },
  {
   "cell_type": "code",
   "execution_count": 7,
   "metadata": {},
   "outputs": [
    {
     "name": "stdout",
     "output_type": "stream",
     "text": [
      "Organismo: Candida albicans\n",
      "Taxonomia: ['Eukaryota', 'Fungi', 'Dikarya', 'Ascomycota', 'Saccharomycotina', 'Saccharomycetes', 'Saccharomycetales', 'Debaryomycetaceae', 'Candida/Lodderomyces clade', 'Candida']\n"
     ]
    }
   ],
   "source": [
    "print(\"Organismo:\", Calbicans.annotations[\"organism\"])\n",
    "print(\"Taxonomia:\", Calbicans.annotations[\"taxonomy\"])"
   ]
  },
  {
   "cell_type": "code",
   "execution_count": 8,
   "metadata": {},
   "outputs": [
    {
     "name": "stdout",
     "output_type": "stream",
     "text": [
      "{}\n"
     ]
    }
   ],
   "source": [
    "print(Calbicans.letter_annotations)"
   ]
  },
  {
   "cell_type": "code",
   "execution_count": 9,
   "metadata": {},
   "outputs": [
    {
     "name": "stdout",
     "output_type": "stream",
     "text": [
      "Features:  [SeqFeature(FeatureLocation(ExactPosition(0), ExactPosition(1672), strand=1), type='source')]\n"
     ]
    }
   ],
   "source": [
    "print(\"Features: \", Calbicans.features)"
   ]
  }
 ],
 "metadata": {
  "kernelspec": {
   "display_name": "Python 3",
   "language": "python",
   "name": "python3"
  },
  "language_info": {
   "codemirror_mode": {
    "name": "ipython",
    "version": 3
   },
   "file_extension": ".py",
   "mimetype": "text/x-python",
   "name": "python",
   "nbconvert_exporter": "python",
   "pygments_lexer": "ipython3",
   "version": "3.10.6 (main, Nov 14 2022, 16:10:14) [GCC 11.3.0]"
  },
  "orig_nbformat": 4,
  "vscode": {
   "interpreter": {
    "hash": "916dbcbb3f70747c44a77c7bcd40155683ae19c65e1c03b4aa3499c5328201f1"
   }
  }
 },
 "nbformat": 4,
 "nbformat_minor": 2
}
