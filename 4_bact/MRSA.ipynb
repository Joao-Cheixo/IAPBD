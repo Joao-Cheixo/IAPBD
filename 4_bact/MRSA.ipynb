{
 "cells": [
  {
   "cell_type": "code",
   "execution_count": 1,
   "id": "6e06656d",
   "metadata": {},
   "outputs": [],
   "source": [
    "#importação dos diferentes packages\n",
    "\n",
    "from Bio import SeqIO\n",
    "from Bio.Seq import Seq\n",
    "from Bio.SeqRecord import SeqRecord\n",
    "from Bio import SeqFeature"
   ]
  },
  {
   "cell_type": "code",
   "execution_count": 2,
   "id": "86102337",
   "metadata": {},
   "outputs": [
    {
     "name": "stdout",
     "output_type": "stream",
     "text": [
      "LOCUS       MA355827                 442 bp    DNA     linear   PAT 31-AUG-2018\n",
      "DEFINITION  JP 2018068315-A/160: SEQUENCES FOR DETECTION AND IDENTIFICATION OF\n",
      "            METHICILLIN-RESISTANT STAPHYLOCOCCUS AUREUS (MRSA) OF MREJ TYPE\n",
      "            XXI.\n",
      "ACCESSION   MA355827\n",
      "VERSION     MA355827.1\n",
      "KEYWORDS    JP 2018068315-A/160.\n",
      "SOURCE      Staphylococcus aureus\n",
      "  ORGANISM  Staphylococcus aureus\n",
      "            Bacteria; Bacillota; Bacilli; Bacillales; Staphylococcaceae;\n",
      "            Staphylococcus.\n",
      "REFERENCE   1  (bases 1 to 442)\n",
      "  AUTHORS   Menard,C. and Roger-dalbert,C.\n",
      "  TITLE     SEQUENCES FOR DETECTION AND IDENTIFICATION OF METHICILLIN-RESISTANT\n",
      "            STAPHYLOCOCCUS AUREUS (MRSA) OF MREJ TYPE XXI\n",
      "  JOURNAL   Patent: JP 2018068315-A 160 10-MAY-2018;\n",
      "            GENEOHM SCIENCES CANADA INC\n",
      "COMMENT     OS   Staphylococcus aureus\n",
      "            PN   JP 2018068315-A/160\n",
      "            PD   10-MAY-2018\n",
      "            PF   26-DEC-2017 JP 2017250217\n",
      "            PR   06-APR-2012 US 61/621368\n",
      "            PA   GENEOHM SCIENCES CANADA INC\n",
      "            PI   christian menard,celine roger-dalbert\n",
      "            PT   'SEQUENCES FOR DETECTION AND IDENTIFICATION OF\n",
      "            PT   METHICILLIN-RESISTANT\n",
      "            PT   STAPHYLOCOCCUS AUREUS (MRSA) OF MREJ TYPE XXI'\n",
      "            PS   N160\n",
      "            CC\n",
      "            FH   Key             Location/Qualifiers.\n",
      "FEATURES             Location/Qualifiers\n",
      "     source          1..442\n",
      "                     /organism=\"Staphylococcus aureus\"\n",
      "                     /mol_type=\"unassigned DNA\"\n",
      "                     /db_xref=\"taxon:1280\"\n",
      "ORIGIN      \n",
      "        1 gatcaatctt tgtcggtaca cgatattctt cacgactaaa taaacgctca ttcgcgattt\n",
      "       61 tataaatgaa tgttgataac aatgttgtat tatctactga aatctcatta cgttgcatcg\n",
      "      121 gaaacattgt gttctgtatg taaaagccgt cttgataatc tttagtagta ccgaagctgg\n",
      "      181 tcatacgaga gttatatttt ccagccaaaa cgatattttt ataatcatta cgtgaaaaag\n",
      "      241 gtttcccttc attatcacac aaatatttta gcttttcagt ttctatatca actgtagctt\n",
      "      301 ctttatccat acgttgaata attgtacgat tctgacgcac catcttttgc acacctttaa\n",
      "      361 tgttatttgt tttaaaagca tgaataagtt tttcaacaca acgatgtgaa tcttctaaga\n",
      "      421 agtcaccgta aaatgaagga tc\n",
      "//\n",
      "\n",
      "\n"
     ]
    }
   ],
   "source": [
    "#ler o ficheiro\n",
    "\n",
    "import re\n",
    "\n",
    "fonte = open(\"MRSA.gb\",'r')\n",
    "MRSA = fonte.read()\n",
    "fonte.close()\n",
    "print( MRSA )"
   ]
  },
  {
   "cell_type": "code",
   "execution_count": 3,
   "id": "05a91dcb",
   "metadata": {},
   "outputs": [
    {
     "name": "stdout",
     "output_type": "stream",
     "text": [
      "https://www.ncbi.nlm.nih.gov/nuccore/MA355827\n"
     ]
    }
   ],
   "source": [
    "#imprimir o link NCBI\n",
    "\n",
    "existe = re.search(r'ACCESSION\\s+[^\\s]+', MRSA)\n",
    "if existe:\n",
    "    m = re.match(r'ACCESSION\\s+([^\\s]+)', existe[0] )\n",
    "    if m:\n",
    "        id = m.group(1)\n",
    "        print( \"https://www.ncbi.nlm.nih.gov/nuccore/{}\".format( id ) )\n",
    "else:\n",
    "    print( \"Padrão não encontrado\" )"
   ]
  },
  {
   "cell_type": "code",
   "execution_count": 4,
   "id": "6da8cbfc",
   "metadata": {},
   "outputs": [
    {
     "name": "stdout",
     "output_type": "stream",
     "text": [
      "SEQUENCES FOR DETECTION AND IDENTIFICATION OF METHICILLIN-RESISTANT STAPHYLOCOCCUS AUREUS (MRSA) OF MREJ TYPE XXI \n"
     ]
    }
   ],
   "source": [
    "#imprimir o título\n",
    "\n",
    "existe = re.findall(r'TITLE\\s+.*?(?=JOURNAL)', MRSA, re.DOTALL)\n",
    "if existe:\n",
    "    for title in existe:\n",
    "        m = re.match( r'TITLE\\s+(.+)', title, re.DOTALL )\n",
    "        print( re.sub(r'\\s+', ' ', m.group(1) ) )"
   ]
  },
  {
   "cell_type": "code",
   "execution_count": 6,
   "id": "4706ff00",
   "metadata": {},
   "outputs": [
    {
     "name": "stdout",
     "output_type": "stream",
     "text": [
      "MA355827 Staphylococcus aureus\n"
     ]
    }
   ],
   "source": [
    "#imprimir o locus e a source\n",
    "\n",
    "flag = False\n",
    "source = \"\"\n",
    "locusid = \"\"\n",
    "fonte = open(\"MRSA.gb\",'r')\n",
    "for linha in fonte:\n",
    "    if re.search(r\"^LOCUS\", linha):\n",
    "        s = re.match(r\"LOCUS\\s+([^ ]+)\", linha)\n",
    "        if s:\n",
    "            locusid = s.group(1)    \n",
    "    if re.search(r\"^SOURCE\", linha):\n",
    "        s = re.match(r\"SOURCE\\s+(.+)\", linha)\n",
    "        if s:\n",
    "            source = s.group(1)\n",
    "    if re.search(r\"//\", linha):\n",
    "        flag = False  \n",
    "    if re.search(r\"ORIGIN\", linha):\n",
    "        flag = True\n",
    "fonte.close()\n",
    "print( locusid, source)"
   ]
  },
  {
   "cell_type": "code",
   "execution_count": 7,
   "id": "fce88adc",
   "metadata": {},
   "outputs": [
    {
     "name": "stdout",
     "output_type": "stream",
     "text": [
      "ID:  MA355827.1\n",
      "Descrição:  JP 2018068315-A/160: SEQUENCES FOR DETECTION AND IDENTIFICATION OF METHICILLIN-RESISTANT STAPHYLOCOCCUS AUREUS (MRSA) OF MREJ TYPE XXI\n",
      "Locus:  MA355827\n",
      "bp:  442\n",
      "Tamanho da sequência:  442 pb\n",
      "Features:  [SeqFeature(FeatureLocation(ExactPosition(0), ExactPosition(442), strand=1), type='source')]\n",
      "Tamanho das features:  1\n",
      "0\n",
      "Referências bibliográficas relacionadas com registo:\n",
      " [Reference(title='SEQUENCES FOR DETECTION AND IDENTIFICATION OF METHICILLIN-RESISTANT STAPHYLOCOCCUS AUREUS (MRSA) OF MREJ TYPE XXI', ...)]\n",
      "12\n",
      "from: Staphylococcus aureus\n",
      "{}\n",
      "Organismo: Staphylococcus aureus\n",
      "Taxonomia: ['Bacteria', 'Bacillota', 'Bacilli', 'Bacillales', 'Staphylococcaceae', 'Staphylococcus']\n",
      "Tipo de molécula:  DNA\n",
      "Código do registo:  ['MA355827']\n",
      "Keywords:\n",
      " dict_keys(['molecule_type', 'topology', 'data_file_division', 'date', 'accessions', 'sequence_version', 'keywords', 'source', 'organism', 'taxonomy', 'references', 'comment'])\n",
      "[]\n"
     ]
    }
   ],
   "source": [
    "#ler o ficheiro\n",
    "MRSA = SeqIO.read(\"MRSA.gb\", \"genbank\")\n",
    "\n",
    "#Bactéria\n",
    "print(\"ID: \", MRSA.id)\n",
    "print(\"Descrição: \", MRSA.description)\n",
    "\n",
    "#Locus\n",
    "print(\"Locus: \", MRSA.name)\n",
    "print(\"bp: \", len(MRSA))\n",
    "\n",
    "#Sequência\n",
    "print(\"Tamanho da sequência: \", len(MRSA), \"pb\")\n",
    "\n",
    "#Features\n",
    "print(\"Features: \", MRSA.features)\n",
    "print(\"Tamanho das features: \", len(MRSA.features))\n",
    "#Identificação de features do tipo CDS e a sua localização:\n",
    "featcds = [] \n",
    "for i in range(len(MRSA.features)):\n",
    "    if MRSA.features[i].type=='CDS':\n",
    "        featcds.append(i)\n",
    "for k in featcds:\n",
    "    print(\"Features do tipo CDS e a sua localização:\\n\",MRSA.features[k].location)\n",
    "    print(len(featcds))\n",
    "\n",
    "featgenes = []  #número de genes anotados no registo (feature tipo “gene”)\n",
    "for i in range(len(MRSA.features)):\n",
    "    if MRSA.features[i].type == \"gene\":\n",
    "        featgenes.append(i)\n",
    "print(len(featgenes))\n",
    "\n",
    "#Reference\n",
    "print(\"Referências bibliográficas relacionadas com registo:\\n\", MRSA.annotations['references'])\n",
    "\n",
    "#Anotations\n",
    "print(len(MRSA.annotations) )\n",
    "print(\"from:\", MRSA.annotations[\"source\"])\n",
    "print(MRSA.letter_annotations)\n",
    "print(\"Organismo:\", MRSA.annotations[\"organism\"])\n",
    "print(\"Taxonomia:\", MRSA.annotations[\"taxonomy\"])\n",
    "print(\"Tipo de molécula: \", MRSA.annotations['molecule_type'])\n",
    "print(\"Código do registo: \", MRSA.annotations['accessions'])\n",
    "print (\"Keywords:\\n\",MRSA.annotations.keys())\n",
    "\n",
    "\n",
    "print(MRSA.dbxrefs)\n"
   ]
  },
  {
   "cell_type": "code",
   "execution_count": 8,
   "id": "d2037b1b",
   "metadata": {},
   "outputs": [
    {
     "name": "stdout",
     "output_type": "stream",
     "text": [
      "GATCAATCTTTGTCGGTACACGATATTCTTCACGACTAAATAAACGCTCATTCGCGATTTTATAAATGAATGTTGATAACAATGTTGTATTATCTACTGAAATCTCATTACGTTGCATCGGAAACATTGTGTTCTGTATGTAAAAGCCGTCTTGATAATCTTTAGTAGTACCGAAGCTGGTCATACGAGAGTTATATTTTCCAGCCAAAACGATATTTTTATAATCATTACGTGAAAAAGGTTTCCCTTCATTATCACACAAATATTTTAGCTTTTCAGTTTCTATATCAACTGTAGCTTCTTTATCCATACGTTGAATAATTGTACGATTCTGACGCACCATCTTTTGCACACCTTTAATGTTATTTGTTTTAAAAGCATGAATAAGTTTTTCAACACAACGATGTGAATCTTCTAAGAAGTCACCGTAAAATGAAGGATC\n"
     ]
    }
   ],
   "source": [
    "print(MRSA.seq)"
   ]
  },
  {
   "cell_type": "markdown",
   "id": "a226f229",
   "metadata": {},
   "source": [
    "Bactérias\\\n",
    "    id_bacteria: \\\n",
    "    id: MA355827.1\\\n",
    "    classificacao: IACS / Resistentes\\\n",
    "    descrição: JP 2018068315-A/160: SEQUENCES FOR DETECTION AND IDENTIFICATION OF METHICILLIN-RESISTANT STAPHYLOCOCCUS AUREUS (MRSA) OF MREJ TYPE XXI\\\n",
    "    link_NCBI: https://www.ncbi.nlm.nih.gov/nuccore/MA355827\n",
    "    \n",
    "Locus\\\n",
    "    id_locus:\n",
    "    id_l: MA355827\\\n",
    "    bp: 442\n",
    "    \n",
    "Sequência\\\n",
    "    id_seq\\\n",
    "    len_seq: 442 bp\n",
    "\n",
    "Features\\\n",
    "    id_features\\\n",
    "    tamanho: 1\\\n",
    "    location\\\n",
    "    type\\\n",
    "        CDS: 0\\\n",
    "        gene: 0\n",
    "\n",
    "Reference\\\n",
    "    id_reference\\\n",
    "    journal\\\n",
    "    title:\\\n",
    "        SEQUENCES FOR DETECTION AND IDENTIFICATION OF METHICILLIN-RESISTANT STAPHYLOCOCCUS AUREUS (MRSA) OF MREJ TYPE XXI\\\n",
    "    author\n",
    "    \n",
    "Anotations\\\n",
    "    id_anotations\\\n",
    "    tamanho das anotations: 12\\\n",
    "    source: Staphylococcus aureus\\\n",
    "    letter_anotations: {} \\\n",
    "    organism: Staphylococcus aureus\\\n",
    "    taxonomy: 'Bacteria', 'Bacillota', 'Bacilli', 'Bacillales', 'Staphylococcaceae', 'Staphylococcus'\\\n",
    "    mol_type: DNA\\\n",
    "    keywords: 'molecule_type', 'topology', 'data_file_division', 'date', 'accessions', 'sequence_version', 'keywords', 'source', 'organism', 'taxonomy', 'references', 'comment'\\\n",
    "    accessions: MA355827\n",
    "    \n",
    "dbxrefs: []"
   ]
  }
 ],
 "metadata": {
  "kernelspec": {
   "display_name": "Python 3 (ipykernel)",
   "language": "python",
   "name": "python3"
  },
  "language_info": {
   "codemirror_mode": {
    "name": "ipython",
    "version": 3
   },
   "file_extension": ".py",
   "mimetype": "text/x-python",
   "name": "python",
   "nbconvert_exporter": "python",
   "pygments_lexer": "ipython3",
   "version": "3.9.12"
  }
 },
 "nbformat": 4,
 "nbformat_minor": 5
}
