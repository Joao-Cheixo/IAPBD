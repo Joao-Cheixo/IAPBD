{
 "cells": [
  {
   "attachments": {},
   "cell_type": "markdown",
   "metadata": {},
   "source": [
    "Bactéria Acinetobacter baumannii"
   ]
  },
  {
   "cell_type": "code",
   "execution_count": null,
   "metadata": {},
   "outputs": [],
   "source": [
    "import re\n",
    "from Bio import SeqIO\n",
    "from Bio.Seq import Seq\n",
    "from Bio.SeqRecord import SeqRecord\n",
    "from Bio import SeqFeature\n",
    "\n",
    "fonte = open(\"Abaumannii.gb\",'r')\n",
    "locus = fonte.read()\n",
    "fonte.close()\n",
    "print( locus )"
   ]
  },
  {
   "cell_type": "code",
   "execution_count": 3,
   "metadata": {},
   "outputs": [
    {
     "name": "stdout",
     "output_type": "stream",
     "text": [
      "https://www.ncbi.nlm.nih.gov/nuccore/UFRP01000002\n"
     ]
    }
   ],
   "source": [
    "existe = re.search(r'ACCESSION\\s+[^\\s]+', locus)\n",
    "if existe:\n",
    "    m = re.match(r'ACCESSION\\s+([^\\s]+)', existe[0] )\n",
    "    if m:\n",
    "        id = m.group(1)\n",
    "        print( \"https://www.ncbi.nlm.nih.gov/nuccore/{}\".format( id ) )\n",
    "else:\n",
    "    print( \"Padrão não encontrado\" )"
   ]
  },
  {
   "cell_type": "code",
   "execution_count": 5,
   "metadata": {},
   "outputs": [
    {
     "name": "stdout",
     "output_type": "stream",
     "text": [
      "UFRP01000002 Acinetobacter baumannii\n"
     ]
    }
   ],
   "source": [
    "flag = False\n",
    "source = \"\"\n",
    "locusid = \"\"\n",
    "fonte = open(\"Abaumannii.gb\",'r')\n",
    "for linha in fonte:\n",
    "    if re.search(r\"^LOCUS\", linha):\n",
    "        s = re.match(r\"LOCUS\\s+([^ ]+)\", linha)\n",
    "        if s:\n",
    "            locusid = s.group(1)    \n",
    "    if re.search(r\"^SOURCE\", linha):\n",
    "        s = re.match(r\"SOURCE\\s+(.+)\", linha)\n",
    "        if s:\n",
    "            source = s.group(1)\n",
    "    if re.search(r\"//\", linha):\n",
    "        flag = False  \n",
    "    if re.search(r\"ORIGIN\", linha):\n",
    "        flag = True\n",
    "fonte.close()\n",
    "print( locusid, source)"
   ]
  },
  {
   "cell_type": "code",
   "execution_count": 6,
   "metadata": {},
   "outputs": [
    {
     "name": "stdout",
     "output_type": "stream",
     "text": [
      "Direct Submission \n"
     ]
    }
   ],
   "source": [
    "existe = re.findall(r'TITLE\\s+.*?(?=JOURNAL)', locus, re.DOTALL)\n",
    "if existe:\n",
    "    for title in existe:\n",
    "        m = re.match( r'TITLE\\s+(.+)', title, re.DOTALL )\n",
    "        print( re.sub(r'\\s+', ' ', m.group(1) ) )"
   ]
  },
  {
   "cell_type": "code",
   "execution_count": 22,
   "metadata": {},
   "outputs": [
    {
     "name": "stdout",
     "output_type": "stream",
     "text": [
      "ID:  UFRP01000002.1\n",
      "Descrição:  Acinetobacter baumannii strain NCTC7412 genome assembly, contig: ERS1963330SCcontig000002, whole genome shotgun sequence\n",
      "Tipo de molécula:  DNA\n",
      "Código do registo:  ['UFRP01000002', 'UFRP01000000']\n"
     ]
    }
   ],
   "source": [
    "Abaumannii = SeqIO.read(\"Abaumannii.gb\", \"genbank\")\n",
    "\n",
    "print(\"ID: \", Abaumannii.id)\n",
    "print(\"Descrição: \", Abaumannii.description)\n",
    "print(\"Tipo de molécula: \", Abaumannii.annotations['molecule_type'])\n",
    "print(\"Código do registo: \", Abaumannii.annotations['accessions'])\n"
   ]
  },
  {
   "cell_type": "code",
   "execution_count": 12,
   "metadata": {},
   "outputs": [
    {
     "name": "stdout",
     "output_type": "stream",
     "text": [
      "Keywords:\n",
      " dict_keys(['molecule_type', 'topology', 'data_file_division', 'date', 'accessions', 'sequence_version', 'keywords', 'source', 'organism', 'taxonomy', 'references', 'comment', 'structured_comment'])\n",
      "Tamanho da sequência:  20604 pb\n",
      "['BioProject:PRJEB6403', 'BioSample:SAMEA104338352']\n",
      "13\n"
     ]
    }
   ],
   "source": [
    "print (\"Keywords:\\n\",Abaumannii.annotations.keys())\n",
    "print(\"Tamanho da sequência: \", len(Abaumannii), \"pb\")\n",
    "print(Abaumannii.dbxrefs)\n",
    "print(len(Abaumannii.annotations) )\n"
   ]
  },
  {
   "cell_type": "code",
   "execution_count": 23,
   "metadata": {},
   "outputs": [
    {
     "name": "stdout",
     "output_type": "stream",
     "text": [
      "Organismo: Acinetobacter baumannii\n",
      "Taxonomia: ['Bacteria', 'Proteobacteria', 'Gammaproteobacteria', 'Moraxellales', 'Moraxellaceae', 'Acinetobacter', 'Acinetobacter calcoaceticus/baumannii complex']\n"
     ]
    }
   ],
   "source": [
    "print(\"Organismo:\", Abaumannii.annotations[\"organism\"])\n",
    "print(\"Taxonomia:\", Abaumannii.annotations[\"taxonomy\"])"
   ]
  },
  {
   "cell_type": "code",
   "execution_count": 24,
   "metadata": {},
   "outputs": [
    {
     "name": "stdout",
     "output_type": "stream",
     "text": [
      "{}\n"
     ]
    }
   ],
   "source": [
    "print(Abaumannii.letter_annotations)"
   ]
  },
  {
   "cell_type": "code",
   "execution_count": 18,
   "metadata": {},
   "outputs": [
    {
     "name": "stdout",
     "output_type": "stream",
     "text": [
      "Features:  [SeqFeature(FeatureLocation(ExactPosition(0), ExactPosition(20604), strand=1), type='source'), SeqFeature(FeatureLocation(ExactPosition(515), ExactPosition(956), strand=-1), type='gene'), SeqFeature(FeatureLocation(ExactPosition(515), ExactPosition(956), strand=-1), type='CDS'), SeqFeature(FeatureLocation(ExactPosition(1047), ExactPosition(1203), strand=-1), type='gene'), SeqFeature(FeatureLocation(ExactPosition(1047), ExactPosition(1203), strand=-1), type='CDS'), SeqFeature(FeatureLocation(ExactPosition(1141), ExactPosition(1522), strand=-1), type='gene'), SeqFeature(FeatureLocation(ExactPosition(1141), ExactPosition(1522), strand=-1), type='CDS'), SeqFeature(FeatureLocation(ExactPosition(2494), ExactPosition(2734), strand=-1), type='gene'), SeqFeature(FeatureLocation(ExactPosition(2494), ExactPosition(2734), strand=-1), type='CDS'), SeqFeature(FeatureLocation(ExactPosition(2784), ExactPosition(3114), strand=-1), type='gene'), SeqFeature(FeatureLocation(ExactPosition(2784), ExactPosition(3114), strand=-1), type='CDS'), SeqFeature(FeatureLocation(ExactPosition(3232), ExactPosition(3712), strand=-1), type='gene'), SeqFeature(FeatureLocation(ExactPosition(3232), ExactPosition(3712), strand=-1), type='CDS'), SeqFeature(FeatureLocation(ExactPosition(3829), ExactPosition(4222), strand=-1), type='gene'), SeqFeature(FeatureLocation(ExactPosition(3829), ExactPosition(4222), strand=-1), type='CDS'), SeqFeature(FeatureLocation(ExactPosition(4228), ExactPosition(4696), strand=-1), type='gene'), SeqFeature(FeatureLocation(ExactPosition(4228), ExactPosition(4696), strand=-1), type='CDS'), SeqFeature(FeatureLocation(ExactPosition(4695), ExactPosition(4974), strand=-1), type='gene'), SeqFeature(FeatureLocation(ExactPosition(4695), ExactPosition(4974), strand=-1), type='CDS'), SeqFeature(FeatureLocation(ExactPosition(4982), ExactPosition(5396), strand=-1), type='gene'), SeqFeature(FeatureLocation(ExactPosition(4982), ExactPosition(5396), strand=-1), type='CDS'), SeqFeature(FeatureLocation(ExactPosition(5579), ExactPosition(5741), strand=-1), type='gene'), SeqFeature(FeatureLocation(ExactPosition(5579), ExactPosition(5741), strand=-1), type='CDS'), SeqFeature(FeatureLocation(ExactPosition(5745), ExactPosition(6411), strand=-1), type='gene'), SeqFeature(FeatureLocation(ExactPosition(5745), ExactPosition(6411), strand=-1), type='CDS'), SeqFeature(FeatureLocation(ExactPosition(6476), ExactPosition(6785), strand=-1), type='gene'), SeqFeature(FeatureLocation(ExactPosition(6476), ExactPosition(6785), strand=-1), type='CDS'), SeqFeature(FeatureLocation(ExactPosition(6867), ExactPosition(7434), strand=-1), type='gene'), SeqFeature(FeatureLocation(ExactPosition(6867), ExactPosition(7434), strand=-1), type='CDS'), SeqFeature(FeatureLocation(ExactPosition(7461), ExactPosition(7782), strand=-1), type='gene'), SeqFeature(FeatureLocation(ExactPosition(7461), ExactPosition(7782), strand=-1), type='CDS'), SeqFeature(FeatureLocation(ExactPosition(7720), ExactPosition(8170), strand=-1), type='gene'), SeqFeature(FeatureLocation(ExactPosition(7720), ExactPosition(8170), strand=-1), type='CDS'), SeqFeature(FeatureLocation(ExactPosition(8334), ExactPosition(8649), strand=-1), type='gene'), SeqFeature(FeatureLocation(ExactPosition(8334), ExactPosition(8649), strand=-1), type='CDS'), SeqFeature(FeatureLocation(ExactPosition(8803), ExactPosition(9907), strand=-1), type='gene'), SeqFeature(FeatureLocation(ExactPosition(8803), ExactPosition(9907), strand=-1), type='CDS'), SeqFeature(FeatureLocation(ExactPosition(9913), ExactPosition(10408), strand=-1), type='gene'), SeqFeature(FeatureLocation(ExactPosition(9913), ExactPosition(10408), strand=-1), type='CDS'), SeqFeature(FeatureLocation(ExactPosition(10380), ExactPosition(10914), strand=-1), type='gene'), SeqFeature(FeatureLocation(ExactPosition(10380), ExactPosition(10914), strand=-1), type='CDS'), SeqFeature(FeatureLocation(ExactPosition(10910), ExactPosition(11357), strand=-1), type='gene'), SeqFeature(FeatureLocation(ExactPosition(10910), ExactPosition(11357), strand=-1), type='CDS'), SeqFeature(FeatureLocation(ExactPosition(11353), ExactPosition(11857), strand=-1), type='gene'), SeqFeature(FeatureLocation(ExactPosition(11353), ExactPosition(11857), strand=-1), type='CDS'), SeqFeature(FeatureLocation(ExactPosition(11853), ExactPosition(12780), strand=-1), type='gene'), SeqFeature(FeatureLocation(ExactPosition(11853), ExactPosition(12780), strand=-1), type='CDS'), SeqFeature(FeatureLocation(ExactPosition(12769), ExactPosition(13240), strand=-1), type='gene'), SeqFeature(FeatureLocation(ExactPosition(12769), ExactPosition(13240), strand=-1), type='CDS'), SeqFeature(FeatureLocation(ExactPosition(13335), ExactPosition(13938), strand=-1), type='gene'), SeqFeature(FeatureLocation(ExactPosition(13335), ExactPosition(13938), strand=-1), type='CDS'), SeqFeature(FeatureLocation(ExactPosition(13906), ExactPosition(14374), strand=-1), type='gene'), SeqFeature(FeatureLocation(ExactPosition(13906), ExactPosition(14374), strand=-1), type='CDS'), SeqFeature(FeatureLocation(ExactPosition(14414), ExactPosition(14732), strand=-1), type='gene'), SeqFeature(FeatureLocation(ExactPosition(14414), ExactPosition(14732), strand=-1), type='CDS'), SeqFeature(FeatureLocation(ExactPosition(15100), ExactPosition(15589), strand=-1), type='gene'), SeqFeature(FeatureLocation(ExactPosition(15100), ExactPosition(15589), strand=-1), type='CDS'), SeqFeature(FeatureLocation(ExactPosition(15627), ExactPosition(15822), strand=-1), type='gene'), SeqFeature(FeatureLocation(ExactPosition(15627), ExactPosition(15822), strand=-1), type='CDS'), SeqFeature(FeatureLocation(ExactPosition(15861), ExactPosition(16143), strand=-1), type='gene'), SeqFeature(FeatureLocation(ExactPosition(15861), ExactPosition(16143), strand=-1), type='CDS'), SeqFeature(FeatureLocation(ExactPosition(16482), ExactPosition(16650), strand=-1), type='gene'), SeqFeature(FeatureLocation(ExactPosition(16482), ExactPosition(16650), strand=-1), type='CDS'), SeqFeature(FeatureLocation(ExactPosition(17559), ExactPosition(17793), strand=1), type='gene'), SeqFeature(FeatureLocation(ExactPosition(17559), ExactPosition(17793), strand=1), type='CDS'), SeqFeature(FeatureLocation(ExactPosition(17899), ExactPosition(18145), strand=-1), type='gene'), SeqFeature(FeatureLocation(ExactPosition(17899), ExactPosition(18145), strand=-1), type='CDS'), SeqFeature(FeatureLocation(ExactPosition(19077), ExactPosition(19305), strand=-1), type='gene'), SeqFeature(FeatureLocation(ExactPosition(19077), ExactPosition(19305), strand=-1), type='CDS'), SeqFeature(FeatureLocation(ExactPosition(20243), ExactPosition(20342), strand=-1), type='gene'), SeqFeature(FeatureLocation(ExactPosition(20243), ExactPosition(20342), strand=-1), type='CDS')]\n"
     ]
    }
   ],
   "source": [
    "print(\"Features: \", Abaumannii.features)"
   ]
  }
 ],
 "metadata": {
  "kernelspec": {
   "display_name": "Python 3",
   "language": "python",
   "name": "python3"
  },
  "language_info": {
   "codemirror_mode": {
    "name": "ipython",
    "version": 3
   },
   "file_extension": ".py",
   "mimetype": "text/x-python",
   "name": "python",
   "nbconvert_exporter": "python",
   "pygments_lexer": "ipython3",
   "version": "3.10.6"
  },
  "orig_nbformat": 4,
  "vscode": {
   "interpreter": {
    "hash": "916dbcbb3f70747c44a77c7bcd40155683ae19c65e1c03b4aa3499c5328201f1"
   }
  }
 },
 "nbformat": 4,
 "nbformat_minor": 2
}
