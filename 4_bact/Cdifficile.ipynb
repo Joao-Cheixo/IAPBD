{
 "cells": [
  {
   "attachments": {},
   "cell_type": "markdown",
   "metadata": {},
   "source": [
    "Bactéria Clostridium difficile"
   ]
  },
  {
   "cell_type": "code",
   "execution_count": null,
   "metadata": {},
   "outputs": [],
   "source": [
    "import re\n",
    "from Bio import SeqIO\n",
    "from Bio.Seq import Seq\n",
    "from Bio.SeqRecord import SeqRecord\n",
    "from Bio import SeqFeature\n",
    "\n",
    "fonte = open(\"Cdifficile.gb\", 'r')\n",
    "locus = fonte.read()\n",
    "fonte.close()\n",
    "print(locus)\n"
   ]
  },
  {
   "cell_type": "code",
   "execution_count": 2,
   "metadata": {},
   "outputs": [
    {
     "name": "stdout",
     "output_type": "stream",
     "text": [
      "https://www.ncbi.nlm.nih.gov/nuccore/CAMH01000078\n"
     ]
    }
   ],
   "source": [
    "existe = re.search(r'ACCESSION\\s+[^\\s]+', locus)\n",
    "if existe:\n",
    "    m = re.match(r'ACCESSION\\s+([^\\s]+)', existe[0])\n",
    "    if m:\n",
    "        id = m.group(1)\n",
    "        print(\"https://www.ncbi.nlm.nih.gov/nuccore/{}\".format(id))\n",
    "else:\n",
    "    print(\"Padrão não encontrado\")\n"
   ]
  },
  {
   "cell_type": "code",
   "execution_count": 4,
   "metadata": {},
   "outputs": [
    {
     "name": "stdout",
     "output_type": "stream",
     "text": [
      "CAMH01000078 Clostridioides difficile E16 (Clostridium difficile E16)\n"
     ]
    }
   ],
   "source": [
    "flag = False\n",
    "source = \"\"\n",
    "locusid = \"\"\n",
    "fonte = open(\"Cdifficile.gb\", 'r')\n",
    "for linha in fonte:\n",
    "    if re.search(r\"^LOCUS\", linha):\n",
    "        s=re.match(r\"LOCUS\\s+([^ ]+)\", linha)\n",
    "        if s:\n",
    "            locusid=s.group(1)\n",
    "    if re.search(r\"^SOURCE\", linha):\n",
    "        s=re.match(r\"SOURCE\\s+(.+)\", linha)\n",
    "        if s:\n",
    "            source=s.group(1)\n",
    "    if re.search(r\"//\", linha):\n",
    "        flag=False\n",
    "    if re.search(r\"ORIGIN\", linha):\n",
    "        flag=True\n",
    "fonte.close()\n",
    "print(locusid, source)\n"
   ]
  },
  {
   "cell_type": "code",
   "execution_count": 5,
   "metadata": {},
   "outputs": [
    {
     "name": "stdout",
     "output_type": "stream",
     "text": [
      "Sequence similarity of Clostridium difficile strains by analysis of conserved genes and genome content is reflected by their ribotype affiliation \n",
      "Direct Submission \n"
     ]
    }
   ],
   "source": [
    "existe = re.findall(r'TITLE\\s+.*?(?=JOURNAL)', locus, re.DOTALL)\n",
    "if existe:\n",
    "    for title in existe:\n",
    "        m = re.match(r'TITLE\\s+(.+)', title, re.DOTALL)\n",
    "        print(re.sub(r'\\s+', ' ', m.group(1)))\n"
   ]
  },
  {
   "cell_type": "code",
   "execution_count": 6,
   "metadata": {},
   "outputs": [
    {
     "name": "stdout",
     "output_type": "stream",
     "text": [
      "ID:  CAMH01000078.1\n",
      "Descrição:  Clostridium difficile E16 WGS project CAMH00000000 data, contig E16_NODE_16-2337, whole genome shotgun sequence\n",
      "Tipo de molécula:  DNA\n",
      "Código do registo:  ['CAMH01000078', 'CAMH01000000']\n"
     ]
    }
   ],
   "source": [
    "Cdifficile = SeqIO.read(\"Cdifficile.gb\", \"genbank\")\n",
    "\n",
    "print(\"ID: \", Cdifficile.id)\n",
    "print(\"Descrição: \", Cdifficile.description)\n",
    "print(\"Tipo de molécula: \", Cdifficile.annotations['molecule_type'])\n",
    "print(\"Código do registo: \", Cdifficile.annotations['accessions'])\n"
   ]
  },
  {
   "cell_type": "code",
   "execution_count": 7,
   "metadata": {},
   "outputs": [
    {
     "name": "stdout",
     "output_type": "stream",
     "text": [
      "Keywords:\n",
      " dict_keys(['molecule_type', 'topology', 'data_file_division', 'date', 'accessions', 'sequence_version', 'keywords', 'source', 'organism', 'taxonomy', 'references', 'comment'])\n",
      "Tamanho da sequência:  176558 pb\n",
      "['BioProject:PRJEB194', 'BioSample:SAMEA3138906']\n",
      "12\n"
     ]
    }
   ],
   "source": [
    "print (\"Keywords:\\n\",Cdifficile.annotations.keys())\n",
    "print(\"Tamanho da sequência: \", len(Cdifficile), \"pb\")\n",
    "print(Cdifficile.dbxrefs)\n",
    "print(len(Cdifficile.annotations) )\n"
   ]
  },
  {
   "cell_type": "code",
   "execution_count": 8,
   "metadata": {},
   "outputs": [
    {
     "name": "stdout",
     "output_type": "stream",
     "text": [
      "Organismo: Clostridioides difficile E16\n",
      "Taxonomia: ['Bacteria', 'Bacillota', 'Clostridia', 'Eubacteriales', 'Peptostreptococcaceae', 'Clostridioides']\n"
     ]
    }
   ],
   "source": [
    "print(\"Organismo:\", Cdifficile.annotations[\"organism\"])\n",
    "print(\"Taxonomia:\", Cdifficile.annotations[\"taxonomy\"])"
   ]
  },
  {
   "cell_type": "code",
   "execution_count": 9,
   "metadata": {},
   "outputs": [
    {
     "name": "stdout",
     "output_type": "stream",
     "text": [
      "{}\n"
     ]
    }
   ],
   "source": [
    "print(Cdifficile.letter_annotations)"
   ]
  },
  {
   "cell_type": "code",
   "execution_count": 10,
   "metadata": {},
   "outputs": [
    {
     "name": "stdout",
     "output_type": "stream",
     "text": [
      "Features:  [SeqFeature(FeatureLocation(ExactPosition(0), ExactPosition(176558), strand=1), type='source'), SeqFeature(FeatureLocation(ExactPosition(217), ExactPosition(973), strand=1), type='gene'), SeqFeature(FeatureLocation(ExactPosition(217), ExactPosition(973), strand=1), type='CDS'), SeqFeature(FeatureLocation(ExactPosition(1612), ExactPosition(2884), strand=-1), type='gene'), SeqFeature(FeatureLocation(ExactPosition(1612), ExactPosition(2884), strand=-1), type='CDS'), SeqFeature(FeatureLocation(ExactPosition(3095), ExactPosition(3335), strand=1), type='gene'), SeqFeature(FeatureLocation(ExactPosition(3095), ExactPosition(3335), strand=1), type='CDS'), SeqFeature(FeatureLocation(ExactPosition(4329), ExactPosition(4482), strand=1), type='gene'), SeqFeature(FeatureLocation(ExactPosition(4329), ExactPosition(4482), strand=1), type='CDS'), SeqFeature(FeatureLocation(ExactPosition(5215), ExactPosition(5503), strand=1), type='gene'), SeqFeature(FeatureLocation(ExactPosition(5215), ExactPosition(5503), strand=1), type='CDS'), SeqFeature(FeatureLocation(ExactPosition(6041), ExactPosition(6593), strand=-1), type='gene'), SeqFeature(FeatureLocation(ExactPosition(6041), ExactPosition(6593), strand=-1), type='CDS'), SeqFeature(FeatureLocation(ExactPosition(6783), ExactPosition(7746), strand=1), type='gene'), SeqFeature(FeatureLocation(ExactPosition(6783), ExactPosition(7746), strand=1), type='CDS'), SeqFeature(FeatureLocation(ExactPosition(8040), ExactPosition(9885), strand=1), type='gene'), SeqFeature(FeatureLocation(ExactPosition(8040), ExactPosition(9885), strand=1), type='CDS'), SeqFeature(FeatureLocation(ExactPosition(10206), ExactPosition(10791), strand=1), type='gene'), SeqFeature(FeatureLocation(ExactPosition(10206), ExactPosition(10791), strand=1), type='CDS'), SeqFeature(FeatureLocation(ExactPosition(11893), ExactPosition(12070), strand=-1), type='gene'), SeqFeature(FeatureLocation(ExactPosition(11893), ExactPosition(12070), strand=-1), type='CDS'), SeqFeature(FeatureLocation(ExactPosition(12644), ExactPosition(13667), strand=1), type='gene'), SeqFeature(FeatureLocation(ExactPosition(12644), ExactPosition(13667), strand=1), type='CDS'), SeqFeature(FeatureLocation(ExactPosition(13680), ExactPosition(14568), strand=1), type='gene'), SeqFeature(FeatureLocation(ExactPosition(13680), ExactPosition(14568), strand=1), type='CDS'), SeqFeature(FeatureLocation(ExactPosition(14573), ExactPosition(15347), strand=1), type='gene'), SeqFeature(FeatureLocation(ExactPosition(14573), ExactPosition(15347), strand=1), type='CDS'), SeqFeature(FeatureLocation(ExactPosition(15458), ExactPosition(16184), strand=1), type='gene'), SeqFeature(FeatureLocation(ExactPosition(15458), ExactPosition(16184), strand=1), type='CDS'), SeqFeature(FeatureLocation(ExactPosition(16187), ExactPosition(17591), strand=1), type='gene'), SeqFeature(FeatureLocation(ExactPosition(16187), ExactPosition(17591), strand=1), type='CDS'), SeqFeature(FeatureLocation(ExactPosition(17601), ExactPosition(18426), strand=1), type='gene'), SeqFeature(FeatureLocation(ExactPosition(17601), ExactPosition(18426), strand=1), type='CDS'), SeqFeature(FeatureLocation(ExactPosition(18281), ExactPosition(18455), strand=1), type='gene'), SeqFeature(FeatureLocation(ExactPosition(18281), ExactPosition(18455), strand=1), type='CDS'), SeqFeature(FeatureLocation(ExactPosition(18524), ExactPosition(18710), strand=1), type='gene'), SeqFeature(FeatureLocation(ExactPosition(18524), ExactPosition(18710), strand=1), type='CDS'), SeqFeature(FeatureLocation(ExactPosition(18750), ExactPosition(19371), strand=-1), type='gene'), SeqFeature(FeatureLocation(ExactPosition(18750), ExactPosition(19371), strand=-1), type='CDS'), SeqFeature(FeatureLocation(ExactPosition(19636), ExactPosition(19969), strand=1), type='gene'), SeqFeature(FeatureLocation(ExactPosition(19636), ExactPosition(19969), strand=1), type='CDS'), SeqFeature(FeatureLocation(ExactPosition(20088), ExactPosition(20730), strand=-1), type='gene'), SeqFeature(FeatureLocation(ExactPosition(20088), ExactPosition(20730), strand=-1), type='CDS'), SeqFeature(FeatureLocation(ExactPosition(20750), ExactPosition(21683), strand=-1), type='gene'), SeqFeature(FeatureLocation(ExactPosition(20750), ExactPosition(21683), strand=-1), type='CDS'), SeqFeature(FeatureLocation(ExactPosition(21704), ExactPosition(22370), strand=-1), type='gene'), SeqFeature(FeatureLocation(ExactPosition(21704), ExactPosition(22370), strand=-1), type='CDS'), SeqFeature(FeatureLocation(ExactPosition(22939), ExactPosition(23413), strand=-1), type='gene'), SeqFeature(FeatureLocation(ExactPosition(22939), ExactPosition(23413), strand=-1), type='CDS'), SeqFeature(FeatureLocation(ExactPosition(23415), ExactPosition(23820), strand=-1), type='gene'), SeqFeature(FeatureLocation(ExactPosition(23415), ExactPosition(23820), strand=-1), type='CDS'), SeqFeature(FeatureLocation(ExactPosition(23794), ExactPosition(24424), strand=-1), type='gene'), SeqFeature(FeatureLocation(ExactPosition(23794), ExactPosition(24424), strand=-1), type='CDS'), SeqFeature(FeatureLocation(ExactPosition(24788), ExactPosition(24832), strand=1), type='gene'), SeqFeature(FeatureLocation(ExactPosition(24788), ExactPosition(24832), strand=1), type='misc_RNA'), SeqFeature(FeatureLocation(ExactPosition(24932), ExactPosition(25901), strand=1), type='gene'), SeqFeature(FeatureLocation(ExactPosition(24932), ExactPosition(25901), strand=1), type='CDS'), SeqFeature(FeatureLocation(ExactPosition(25902), ExactPosition(26466), strand=1), type='gene'), SeqFeature(FeatureLocation(ExactPosition(25902), ExactPosition(26466), strand=1), type='CDS'), SeqFeature(FeatureLocation(ExactPosition(26473), ExactPosition(27163), strand=1), type='gene'), SeqFeature(FeatureLocation(ExactPosition(26473), ExactPosition(27163), strand=1), type='CDS'), SeqFeature(FeatureLocation(ExactPosition(27289), ExactPosition(28018), strand=1), type='gene'), SeqFeature(FeatureLocation(ExactPosition(27289), ExactPosition(28018), strand=1), type='CDS'), SeqFeature(FeatureLocation(ExactPosition(28031), ExactPosition(28706), strand=1), type='gene'), SeqFeature(FeatureLocation(ExactPosition(28031), ExactPosition(28706), strand=1), type='CDS'), SeqFeature(FeatureLocation(ExactPosition(28731), ExactPosition(29568), strand=1), type='gene'), SeqFeature(FeatureLocation(ExactPosition(28731), ExactPosition(29568), strand=1), type='CDS'), SeqFeature(FeatureLocation(ExactPosition(29583), ExactPosition(30255), strand=1), type='gene'), SeqFeature(FeatureLocation(ExactPosition(29583), ExactPosition(30255), strand=1), type='CDS'), SeqFeature(FeatureLocation(ExactPosition(30244), ExactPosition(31477), strand=1), type='gene'), SeqFeature(FeatureLocation(ExactPosition(30244), ExactPosition(31477), strand=1), type='CDS'), SeqFeature(FeatureLocation(ExactPosition(31626), ExactPosition(31944), strand=1), type='gene'), SeqFeature(FeatureLocation(ExactPosition(31626), ExactPosition(31944), strand=1), type='CDS'), SeqFeature(FeatureLocation(ExactPosition(31960), ExactPosition(32839), strand=1), type='gene'), SeqFeature(FeatureLocation(ExactPosition(31960), ExactPosition(32839), strand=1), type='CDS'), SeqFeature(FeatureLocation(ExactPosition(33108), ExactPosition(33477), strand=1), type='gene'), SeqFeature(FeatureLocation(ExactPosition(33108), ExactPosition(33477), strand=1), type='CDS'), SeqFeature(FeatureLocation(ExactPosition(33479), ExactPosition(33851), strand=1), type='gene'), SeqFeature(FeatureLocation(ExactPosition(33479), ExactPosition(33851), strand=1), type='CDS'), SeqFeature(FeatureLocation(ExactPosition(33994), ExactPosition(34450), strand=-1), type='gene'), SeqFeature(FeatureLocation(ExactPosition(33994), ExactPosition(34450), strand=-1), type='CDS'), SeqFeature(FeatureLocation(ExactPosition(34488), ExactPosition(35754), strand=-1), type='gene'), SeqFeature(FeatureLocation(ExactPosition(34488), ExactPosition(35754), strand=-1), type='CDS'), SeqFeature(FeatureLocation(ExactPosition(36223), ExactPosition(37675), strand=1), type='gene'), SeqFeature(FeatureLocation(ExactPosition(36223), ExactPosition(37675), strand=1), type='CDS'), SeqFeature(FeatureLocation(ExactPosition(37872), ExactPosition(38526), strand=-1), type='gene'), SeqFeature(FeatureLocation(ExactPosition(37872), ExactPosition(38526), strand=-1), type='CDS'), SeqFeature(FeatureLocation(ExactPosition(38865), ExactPosition(38994), strand=-1), type='gene'), SeqFeature(FeatureLocation(ExactPosition(38865), ExactPosition(38994), strand=-1), type='CDS'), SeqFeature(FeatureLocation(ExactPosition(38987), ExactPosition(40367), strand=1), type='gene'), SeqFeature(FeatureLocation(ExactPosition(38987), ExactPosition(40367), strand=1), type='CDS'), SeqFeature(FeatureLocation(ExactPosition(40410), ExactPosition(41145), strand=1), type='gene'), SeqFeature(FeatureLocation(ExactPosition(40410), ExactPosition(41145), strand=1), type='CDS'), SeqFeature(FeatureLocation(ExactPosition(41233), ExactPosition(42433), strand=1), type='gene'), SeqFeature(FeatureLocation(ExactPosition(41233), ExactPosition(42433), strand=1), type='CDS'), SeqFeature(FeatureLocation(ExactPosition(42444), ExactPosition(42939), strand=1), type='gene'), SeqFeature(FeatureLocation(ExactPosition(42444), ExactPosition(42939), strand=1), type='CDS'), SeqFeature(FeatureLocation(ExactPosition(43483), ExactPosition(43780), strand=-1), type='gene'), SeqFeature(FeatureLocation(ExactPosition(43483), ExactPosition(43780), strand=-1), type='CDS'), SeqFeature(FeatureLocation(ExactPosition(44098), ExactPosition(44527), strand=-1), type='gene'), SeqFeature(FeatureLocation(ExactPosition(44098), ExactPosition(44527), strand=-1), type='CDS'), SeqFeature(FeatureLocation(ExactPosition(44927), ExactPosition(45389), strand=-1), type='gene'), SeqFeature(FeatureLocation(ExactPosition(44927), ExactPosition(45389), strand=-1), type='CDS'), SeqFeature(FeatureLocation(ExactPosition(45493), ExactPosition(46687), strand=-1), type='gene'), SeqFeature(FeatureLocation(ExactPosition(45493), ExactPosition(46687), strand=-1), type='CDS'), SeqFeature(FeatureLocation(ExactPosition(46709), ExactPosition(47375), strand=-1), type='gene'), SeqFeature(FeatureLocation(ExactPosition(46709), ExactPosition(47375), strand=-1), type='CDS'), SeqFeature(FeatureLocation(ExactPosition(47408), ExactPosition(48521), strand=-1), type='gene'), SeqFeature(FeatureLocation(ExactPosition(47408), ExactPosition(48521), strand=-1), type='CDS'), SeqFeature(FeatureLocation(ExactPosition(48652), ExactPosition(48774), strand=-1), type='gene'), SeqFeature(FeatureLocation(ExactPosition(48652), ExactPosition(48774), strand=-1), type='misc_RNA'), SeqFeature(FeatureLocation(ExactPosition(48962), ExactPosition(51446), strand=1), type='gene'), SeqFeature(FeatureLocation(ExactPosition(48962), ExactPosition(51446), strand=1), type='CDS'), SeqFeature(FeatureLocation(ExactPosition(51534), ExactPosition(51646), strand=1), type='gene'), SeqFeature(FeatureLocation(ExactPosition(51534), ExactPosition(51646), strand=1), type='misc_RNA'), SeqFeature(FeatureLocation(ExactPosition(51673), ExactPosition(53089), strand=1), type='gene'), SeqFeature(FeatureLocation(ExactPosition(51673), ExactPosition(53089), strand=1), type='CDS'), SeqFeature(FeatureLocation(ExactPosition(53142), ExactPosition(53337), strand=1), type='gene'), SeqFeature(FeatureLocation(ExactPosition(53142), ExactPosition(53337), strand=1), type='CDS'), SeqFeature(FeatureLocation(ExactPosition(53329), ExactPosition(54133), strand=1), type='gene'), SeqFeature(FeatureLocation(ExactPosition(53329), ExactPosition(54133), strand=1), type='CDS'), SeqFeature(FeatureLocation(ExactPosition(54195), ExactPosition(54966), strand=1), type='gene'), SeqFeature(FeatureLocation(ExactPosition(54195), ExactPosition(54966), strand=1), type='CDS'), SeqFeature(FeatureLocation(ExactPosition(54982), ExactPosition(56086), strand=1), type='gene'), SeqFeature(FeatureLocation(ExactPosition(54982), ExactPosition(56086), strand=1), type='CDS'), SeqFeature(FeatureLocation(ExactPosition(56086), ExactPosition(56776), strand=1), type='gene'), SeqFeature(FeatureLocation(ExactPosition(56086), ExactPosition(56776), strand=1), type='CDS'), SeqFeature(FeatureLocation(ExactPosition(56963), ExactPosition(58358), strand=1), type='gene'), SeqFeature(FeatureLocation(ExactPosition(56963), ExactPosition(58358), strand=1), type='CDS'), SeqFeature(FeatureLocation(ExactPosition(58874), ExactPosition(60242), strand=1), type='gene'), SeqFeature(FeatureLocation(ExactPosition(58874), ExactPosition(60242), strand=1), type='CDS'), SeqFeature(FeatureLocation(ExactPosition(60257), ExactPosition(60872), strand=1), type='gene'), SeqFeature(FeatureLocation(ExactPosition(60257), ExactPosition(60872), strand=1), type='CDS'), SeqFeature(FeatureLocation(ExactPosition(60919), ExactPosition(61291), strand=1), type='gene'), SeqFeature(FeatureLocation(ExactPosition(60919), ExactPosition(61291), strand=1), type='CDS'), SeqFeature(FeatureLocation(ExactPosition(61469), ExactPosition(61808), strand=1), type='gene'), SeqFeature(FeatureLocation(ExactPosition(61469), ExactPosition(61808), strand=1), type='CDS'), SeqFeature(FeatureLocation(ExactPosition(62273), ExactPosition(62777), strand=1), type='gene'), SeqFeature(FeatureLocation(ExactPosition(62273), ExactPosition(62777), strand=1), type='CDS'), SeqFeature(FeatureLocation(ExactPosition(62823), ExactPosition(63783), strand=1), type='gene'), SeqFeature(FeatureLocation(ExactPosition(62823), ExactPosition(63783), strand=1), type='CDS'), SeqFeature(FeatureLocation(ExactPosition(63786), ExactPosition(64257), strand=1), type='gene'), SeqFeature(FeatureLocation(ExactPosition(63786), ExactPosition(64257), strand=1), type='CDS'), SeqFeature(FeatureLocation(ExactPosition(64292), ExactPosition(64724), strand=1), type='gene'), SeqFeature(FeatureLocation(ExactPosition(64292), ExactPosition(64724), strand=1), type='CDS'), SeqFeature(FeatureLocation(ExactPosition(64916), ExactPosition(65051), strand=1), type='gene'), SeqFeature(FeatureLocation(ExactPosition(64916), ExactPosition(65051), strand=1), type='misc_RNA'), SeqFeature(FeatureLocation(ExactPosition(65105), ExactPosition(65222), strand=1), type='gene'), SeqFeature(FeatureLocation(ExactPosition(65105), ExactPosition(65222), strand=1), type='CDS'), SeqFeature(FeatureLocation(ExactPosition(65528), ExactPosition(66818), strand=1), type='gene'), SeqFeature(FeatureLocation(ExactPosition(65528), ExactPosition(66818), strand=1), type='CDS'), SeqFeature(FeatureLocation(ExactPosition(66871), ExactPosition(67951), strand=1), type='gene'), SeqFeature(FeatureLocation(ExactPosition(66871), ExactPosition(67951), strand=1), type='CDS'), SeqFeature(FeatureLocation(ExactPosition(67971), ExactPosition(69516), strand=1), type='gene'), SeqFeature(FeatureLocation(ExactPosition(67971), ExactPosition(69516), strand=1), type='CDS'), SeqFeature(FeatureLocation(ExactPosition(69678), ExactPosition(70221), strand=-1), type='gene'), SeqFeature(FeatureLocation(ExactPosition(69678), ExactPosition(70221), strand=-1), type='CDS'), SeqFeature(FeatureLocation(ExactPosition(70368), ExactPosition(70653), strand=-1), type='gene'), SeqFeature(FeatureLocation(ExactPosition(70368), ExactPosition(70653), strand=-1), type='CDS'), SeqFeature(FeatureLocation(ExactPosition(70715), ExactPosition(71480), strand=-1), type='gene'), SeqFeature(FeatureLocation(ExactPosition(70715), ExactPosition(71480), strand=-1), type='CDS'), SeqFeature(FeatureLocation(ExactPosition(71761), ExactPosition(72028), strand=-1), type='gene'), SeqFeature(FeatureLocation(ExactPosition(71761), ExactPosition(72028), strand=-1), type='CDS'), SeqFeature(FeatureLocation(ExactPosition(72069), ExactPosition(72879), strand=-1), type='gene'), SeqFeature(FeatureLocation(ExactPosition(72069), ExactPosition(72879), strand=-1), type='CDS'), SeqFeature(FeatureLocation(ExactPosition(73191), ExactPosition(73473), strand=1), type='gene'), SeqFeature(FeatureLocation(ExactPosition(73191), ExactPosition(73473), strand=1), type='CDS'), SeqFeature(FeatureLocation(ExactPosition(73736), ExactPosition(73991), strand=1), type='gene'), SeqFeature(FeatureLocation(ExactPosition(73736), ExactPosition(73991), strand=1), type='CDS'), SeqFeature(FeatureLocation(ExactPosition(73965), ExactPosition(74106), strand=1), type='gene'), SeqFeature(FeatureLocation(ExactPosition(73965), ExactPosition(74106), strand=1), type='CDS'), SeqFeature(FeatureLocation(ExactPosition(74035), ExactPosition(74359), strand=1), type='gene'), SeqFeature(FeatureLocation(ExactPosition(74035), ExactPosition(74359), strand=1), type='CDS'), SeqFeature(FeatureLocation(ExactPosition(74917), ExactPosition(75112), strand=-1), type='gene'), SeqFeature(FeatureLocation(ExactPosition(74917), ExactPosition(75112), strand=-1), type='CDS'), SeqFeature(FeatureLocation(ExactPosition(75485), ExactPosition(77105), strand=-1), type='gene'), SeqFeature(FeatureLocation(ExactPosition(75485), ExactPosition(77105), strand=-1), type='CDS'), SeqFeature(FeatureLocation(ExactPosition(77413), ExactPosition(77620), strand=-1), type='gene'), SeqFeature(FeatureLocation(ExactPosition(77413), ExactPosition(77620), strand=-1), type='CDS'), SeqFeature(FeatureLocation(ExactPosition(77911), ExactPosition(78103), strand=1), type='gene'), SeqFeature(FeatureLocation(ExactPosition(77911), ExactPosition(78103), strand=1), type='CDS'), SeqFeature(FeatureLocation(ExactPosition(78191), ExactPosition(79004), strand=-1), type='gene'), SeqFeature(FeatureLocation(ExactPosition(78191), ExactPosition(79004), strand=-1), type='CDS'), SeqFeature(FeatureLocation(ExactPosition(79425), ExactPosition(80577), strand=1), type='gene'), SeqFeature(FeatureLocation(ExactPosition(79425), ExactPosition(80577), strand=1), type='CDS'), SeqFeature(FeatureLocation(ExactPosition(80694), ExactPosition(81333), strand=1), type='gene'), SeqFeature(FeatureLocation(ExactPosition(80694), ExactPosition(81333), strand=1), type='CDS'), SeqFeature(FeatureLocation(ExactPosition(81333), ExactPosition(82356), strand=1), type='gene'), SeqFeature(FeatureLocation(ExactPosition(81333), ExactPosition(82356), strand=1), type='CDS'), SeqFeature(FeatureLocation(ExactPosition(82345), ExactPosition(82966), strand=1), type='gene'), SeqFeature(FeatureLocation(ExactPosition(82345), ExactPosition(82966), strand=1), type='CDS'), SeqFeature(FeatureLocation(ExactPosition(83089), ExactPosition(83776), strand=-1), type='gene'), SeqFeature(FeatureLocation(ExactPosition(83089), ExactPosition(83776), strand=-1), type='CDS'), SeqFeature(FeatureLocation(ExactPosition(83789), ExactPosition(84335), strand=-1), type='gene'), SeqFeature(FeatureLocation(ExactPosition(83789), ExactPosition(84335), strand=-1), type='CDS'), SeqFeature(FeatureLocation(ExactPosition(84562), ExactPosition(85810), strand=1), type='gene'), SeqFeature(FeatureLocation(ExactPosition(84562), ExactPosition(85810), strand=1), type='CDS'), SeqFeature(FeatureLocation(ExactPosition(85896), ExactPosition(87891), strand=1), type='gene'), SeqFeature(FeatureLocation(ExactPosition(85896), ExactPosition(87891), strand=1), type='CDS'), SeqFeature(FeatureLocation(ExactPosition(87890), ExactPosition(89213), strand=1), type='gene'), SeqFeature(FeatureLocation(ExactPosition(87890), ExactPosition(89213), strand=1), type='CDS'), SeqFeature(FeatureLocation(ExactPosition(89491), ExactPosition(90778), strand=1), type='gene'), SeqFeature(FeatureLocation(ExactPosition(89491), ExactPosition(90778), strand=1), type='CDS'), SeqFeature(FeatureLocation(ExactPosition(90863), ExactPosition(91913), strand=1), type='gene'), SeqFeature(FeatureLocation(ExactPosition(90863), ExactPosition(91913), strand=1), type='CDS'), SeqFeature(FeatureLocation(ExactPosition(91940), ExactPosition(92171), strand=1), type='gene'), SeqFeature(FeatureLocation(ExactPosition(91940), ExactPosition(92171), strand=1), type='CDS'), SeqFeature(FeatureLocation(ExactPosition(92472), ExactPosition(93180), strand=1), type='gene'), SeqFeature(FeatureLocation(ExactPosition(92472), ExactPosition(93180), strand=1), type='CDS'), SeqFeature(FeatureLocation(ExactPosition(93181), ExactPosition(94540), strand=1), type='gene'), SeqFeature(FeatureLocation(ExactPosition(93181), ExactPosition(94540), strand=1), type='CDS'), SeqFeature(FeatureLocation(ExactPosition(93273), ExactPosition(93441), strand=-1), type='gene'), SeqFeature(FeatureLocation(ExactPosition(93273), ExactPosition(93441), strand=-1), type='CDS'), SeqFeature(FeatureLocation(ExactPosition(94629), ExactPosition(95064), strand=1), type='gene'), SeqFeature(FeatureLocation(ExactPosition(94629), ExactPosition(95064), strand=1), type='CDS'), SeqFeature(FeatureLocation(ExactPosition(95326), ExactPosition(95563), strand=-1), type='gene'), SeqFeature(FeatureLocation(ExactPosition(95326), ExactPosition(95563), strand=-1), type='CDS'), SeqFeature(FeatureLocation(ExactPosition(95718), ExactPosition(95943), strand=-1), type='gene'), SeqFeature(FeatureLocation(ExactPosition(95718), ExactPosition(95943), strand=-1), type='CDS'), SeqFeature(FeatureLocation(ExactPosition(96039), ExactPosition(97293), strand=-1), type='gene'), SeqFeature(FeatureLocation(ExactPosition(96039), ExactPosition(97293), strand=-1), type='CDS'), SeqFeature(FeatureLocation(ExactPosition(97552), ExactPosition(98542), strand=1), type='gene'), SeqFeature(FeatureLocation(ExactPosition(97552), ExactPosition(98542), strand=1), type='CDS'), SeqFeature(FeatureLocation(ExactPosition(98613), ExactPosition(99354), strand=1), type='gene'), SeqFeature(FeatureLocation(ExactPosition(98613), ExactPosition(99354), strand=1), type='CDS'), SeqFeature(FeatureLocation(ExactPosition(99569), ExactPosition(100721), strand=1), type='gene'), SeqFeature(FeatureLocation(ExactPosition(99569), ExactPosition(100721), strand=1), type='CDS'), SeqFeature(FeatureLocation(ExactPosition(100745), ExactPosition(101501), strand=1), type='gene'), SeqFeature(FeatureLocation(ExactPosition(100745), ExactPosition(101501), strand=1), type='CDS'), SeqFeature(FeatureLocation(ExactPosition(101692), ExactPosition(104080), strand=1), type='gene'), SeqFeature(FeatureLocation(ExactPosition(101692), ExactPosition(104080), strand=1), type='CDS'), SeqFeature(FeatureLocation(ExactPosition(104310), ExactPosition(104544), strand=-1), type='gene'), SeqFeature(FeatureLocation(ExactPosition(104310), ExactPosition(104544), strand=-1), type='CDS'), SeqFeature(FeatureLocation(ExactPosition(104832), ExactPosition(105423), strand=1), type='gene'), SeqFeature(FeatureLocation(ExactPosition(104832), ExactPosition(105423), strand=1), type='CDS'), SeqFeature(FeatureLocation(ExactPosition(105536), ExactPosition(106382), strand=1), type='gene'), SeqFeature(FeatureLocation(ExactPosition(105536), ExactPosition(106382), strand=1), type='CDS'), SeqFeature(FeatureLocation(ExactPosition(106378), ExactPosition(107062), strand=1), type='gene'), SeqFeature(FeatureLocation(ExactPosition(106378), ExactPosition(107062), strand=1), type='CDS'), SeqFeature(FeatureLocation(ExactPosition(107058), ExactPosition(107775), strand=1), type='gene'), SeqFeature(FeatureLocation(ExactPosition(107058), ExactPosition(107775), strand=1), type='CDS'), SeqFeature(FeatureLocation(ExactPosition(107856), ExactPosition(108135), strand=1), type='gene'), SeqFeature(FeatureLocation(ExactPosition(107856), ExactPosition(108135), strand=1), type='CDS'), SeqFeature(FeatureLocation(ExactPosition(108106), ExactPosition(108562), strand=1), type='gene'), SeqFeature(FeatureLocation(ExactPosition(108106), ExactPosition(108562), strand=1), type='CDS'), SeqFeature(FeatureLocation(ExactPosition(108613), ExactPosition(109075), strand=1), type='gene'), SeqFeature(FeatureLocation(ExactPosition(108613), ExactPosition(109075), strand=1), type='CDS'), SeqFeature(FeatureLocation(ExactPosition(109124), ExactPosition(110027), strand=1), type='gene'), SeqFeature(FeatureLocation(ExactPosition(109124), ExactPosition(110027), strand=1), type='CDS'), SeqFeature(FeatureLocation(ExactPosition(110378), ExactPosition(111209), strand=1), type='gene'), SeqFeature(FeatureLocation(ExactPosition(110378), ExactPosition(111209), strand=1), type='CDS'), SeqFeature(FeatureLocation(ExactPosition(111619), ExactPosition(111754), strand=1), type='gene'), SeqFeature(FeatureLocation(ExactPosition(111619), ExactPosition(111754), strand=1), type='CDS'), SeqFeature(FeatureLocation(ExactPosition(112258), ExactPosition(113020), strand=1), type='gene'), SeqFeature(FeatureLocation(ExactPosition(112258), ExactPosition(113020), strand=1), type='CDS'), SeqFeature(FeatureLocation(ExactPosition(113084), ExactPosition(113867), strand=1), type='gene'), SeqFeature(FeatureLocation(ExactPosition(113084), ExactPosition(113867), strand=1), type='CDS'), SeqFeature(FeatureLocation(ExactPosition(114133), ExactPosition(114553), strand=1), type='gene'), SeqFeature(FeatureLocation(ExactPosition(114133), ExactPosition(114553), strand=1), type='CDS'), SeqFeature(FeatureLocation(ExactPosition(114655), ExactPosition(114922), strand=-1), type='gene'), SeqFeature(FeatureLocation(ExactPosition(114655), ExactPosition(114922), strand=-1), type='CDS'), SeqFeature(FeatureLocation(ExactPosition(115133), ExactPosition(115835), strand=1), type='gene'), SeqFeature(FeatureLocation(ExactPosition(115133), ExactPosition(115835), strand=1), type='CDS'), SeqFeature(FeatureLocation(ExactPosition(115916), ExactPosition(116525), strand=1), type='gene'), SeqFeature(FeatureLocation(ExactPosition(115916), ExactPosition(116525), strand=1), type='CDS'), SeqFeature(FeatureLocation(ExactPosition(116848), ExactPosition(117313), strand=1), type='gene'), SeqFeature(FeatureLocation(ExactPosition(116848), ExactPosition(117313), strand=1), type='CDS'), SeqFeature(FeatureLocation(ExactPosition(117949), ExactPosition(118966), strand=1), type='gene'), SeqFeature(FeatureLocation(ExactPosition(117949), ExactPosition(118966), strand=1), type='CDS'), SeqFeature(FeatureLocation(ExactPosition(119360), ExactPosition(120530), strand=1), type='gene'), SeqFeature(FeatureLocation(ExactPosition(119360), ExactPosition(120530), strand=1), type='CDS'), SeqFeature(FeatureLocation(ExactPosition(120909), ExactPosition(125163), strand=1), type='gene'), SeqFeature(FeatureLocation(ExactPosition(120909), ExactPosition(125163), strand=1), type='CDS'), SeqFeature(FeatureLocation(ExactPosition(125311), ExactPosition(125806), strand=1), type='gene'), SeqFeature(FeatureLocation(ExactPosition(125311), ExactPosition(125806), strand=1), type='CDS'), SeqFeature(FeatureLocation(ExactPosition(125921), ExactPosition(126299), strand=1), type='gene'), SeqFeature(FeatureLocation(ExactPosition(125921), ExactPosition(126299), strand=1), type='CDS'), SeqFeature(FeatureLocation(ExactPosition(126504), ExactPosition(126945), strand=1), type='gene'), SeqFeature(FeatureLocation(ExactPosition(126504), ExactPosition(126945), strand=1), type='CDS'), SeqFeature(FeatureLocation(ExactPosition(127589), ExactPosition(128897), strand=1), type='gene'), SeqFeature(FeatureLocation(ExactPosition(127589), ExactPosition(128897), strand=1), type='CDS'), SeqFeature(FeatureLocation(ExactPosition(128982), ExactPosition(129245), strand=1), type='gene'), SeqFeature(FeatureLocation(ExactPosition(128982), ExactPosition(129245), strand=1), type='misc_RNA'), SeqFeature(FeatureLocation(ExactPosition(129370), ExactPosition(130174), strand=1), type='gene'), SeqFeature(FeatureLocation(ExactPosition(129370), ExactPosition(130174), strand=1), type='CDS'), SeqFeature(FeatureLocation(ExactPosition(130211), ExactPosition(130823), strand=1), type='gene'), SeqFeature(FeatureLocation(ExactPosition(130211), ExactPosition(130823), strand=1), type='CDS'), SeqFeature(FeatureLocation(ExactPosition(130854), ExactPosition(131526), strand=1), type='gene'), SeqFeature(FeatureLocation(ExactPosition(130854), ExactPosition(131526), strand=1), type='CDS'), SeqFeature(FeatureLocation(ExactPosition(131824), ExactPosition(132187), strand=1), type='gene'), SeqFeature(FeatureLocation(ExactPosition(131824), ExactPosition(132187), strand=1), type='CDS'), SeqFeature(FeatureLocation(ExactPosition(132622), ExactPosition(133324), strand=1), type='gene'), SeqFeature(FeatureLocation(ExactPosition(132622), ExactPosition(133324), strand=1), type='CDS'), SeqFeature(FeatureLocation(ExactPosition(133609), ExactPosition(134413), strand=1), type='gene'), SeqFeature(FeatureLocation(ExactPosition(133609), ExactPosition(134413), strand=1), type='CDS'), SeqFeature(FeatureLocation(ExactPosition(134467), ExactPosition(135616), strand=1), type='gene'), SeqFeature(FeatureLocation(ExactPosition(134467), ExactPosition(135616), strand=1), type='CDS'), SeqFeature(FeatureLocation(ExactPosition(135751), ExactPosition(137140), strand=1), type='gene'), SeqFeature(FeatureLocation(ExactPosition(135751), ExactPosition(137140), strand=1), type='CDS'), SeqFeature(FeatureLocation(ExactPosition(137168), ExactPosition(137867), strand=1), type='gene'), SeqFeature(FeatureLocation(ExactPosition(137168), ExactPosition(137867), strand=1), type='CDS'), SeqFeature(FeatureLocation(ExactPosition(137869), ExactPosition(139303), strand=1), type='gene'), SeqFeature(FeatureLocation(ExactPosition(137869), ExactPosition(139303), strand=1), type='CDS'), SeqFeature(FeatureLocation(ExactPosition(139324), ExactPosition(140062), strand=1), type='gene'), SeqFeature(FeatureLocation(ExactPosition(139324), ExactPosition(140062), strand=1), type='CDS'), SeqFeature(FeatureLocation(ExactPosition(140172), ExactPosition(140380), strand=1), type='gene'), SeqFeature(FeatureLocation(ExactPosition(140172), ExactPosition(140380), strand=1), type='misc_RNA'), SeqFeature(FeatureLocation(ExactPosition(140632), ExactPosition(141832), strand=1), type='gene'), SeqFeature(FeatureLocation(ExactPosition(140632), ExactPosition(141832), strand=1), type='CDS'), SeqFeature(FeatureLocation(ExactPosition(142078), ExactPosition(143125), strand=1), type='gene'), SeqFeature(FeatureLocation(ExactPosition(142078), ExactPosition(143125), strand=1), type='CDS'), SeqFeature(FeatureLocation(ExactPosition(143232), ExactPosition(144396), strand=1), type='gene'), SeqFeature(FeatureLocation(ExactPosition(143232), ExactPosition(144396), strand=1), type='CDS'), SeqFeature(FeatureLocation(ExactPosition(144484), ExactPosition(144865), strand=-1), type='gene'), SeqFeature(FeatureLocation(ExactPosition(144484), ExactPosition(144865), strand=-1), type='CDS'), SeqFeature(FeatureLocation(ExactPosition(144867), ExactPosition(145527), strand=-1), type='gene'), SeqFeature(FeatureLocation(ExactPosition(144867), ExactPosition(145527), strand=-1), type='CDS'), SeqFeature(FeatureLocation(ExactPosition(145632), ExactPosition(146607), strand=-1), type='gene'), SeqFeature(FeatureLocation(ExactPosition(145632), ExactPosition(146607), strand=-1), type='CDS'), SeqFeature(FeatureLocation(ExactPosition(146646), ExactPosition(146994), strand=-1), type='gene'), SeqFeature(FeatureLocation(ExactPosition(146646), ExactPosition(146994), strand=-1), type='CDS'), SeqFeature(FeatureLocation(ExactPosition(147211), ExactPosition(148168), strand=-1), type='gene'), SeqFeature(FeatureLocation(ExactPosition(147211), ExactPosition(148168), strand=-1), type='CDS'), SeqFeature(FeatureLocation(ExactPosition(148610), ExactPosition(148979), strand=1), type='gene'), SeqFeature(FeatureLocation(ExactPosition(148610), ExactPosition(148979), strand=1), type='CDS'), SeqFeature(FeatureLocation(ExactPosition(149403), ExactPosition(149649), strand=1), type='gene'), SeqFeature(FeatureLocation(ExactPosition(149403), ExactPosition(149649), strand=1), type='CDS'), SeqFeature(FeatureLocation(ExactPosition(149747), ExactPosition(150011), strand=1), type='gene'), SeqFeature(FeatureLocation(ExactPosition(149747), ExactPosition(150011), strand=1), type='CDS'), SeqFeature(FeatureLocation(ExactPosition(150295), ExactPosition(151243), strand=-1), type='gene'), SeqFeature(FeatureLocation(ExactPosition(150295), ExactPosition(151243), strand=-1), type='CDS'), SeqFeature(FeatureLocation(ExactPosition(151245), ExactPosition(152877), strand=-1), type='gene'), SeqFeature(FeatureLocation(ExactPosition(151245), ExactPosition(152877), strand=-1), type='CDS'), SeqFeature(FeatureLocation(ExactPosition(153006), ExactPosition(153924), strand=1), type='gene'), SeqFeature(FeatureLocation(ExactPosition(153006), ExactPosition(153924), strand=1), type='CDS'), SeqFeature(FeatureLocation(ExactPosition(153980), ExactPosition(154562), strand=-1), type='gene'), SeqFeature(FeatureLocation(ExactPosition(153980), ExactPosition(154562), strand=-1), type='CDS'), SeqFeature(FeatureLocation(ExactPosition(154601), ExactPosition(155168), strand=-1), type='gene'), SeqFeature(FeatureLocation(ExactPosition(154601), ExactPosition(155168), strand=-1), type='CDS'), SeqFeature(FeatureLocation(ExactPosition(155623), ExactPosition(156478), strand=-1), type='gene'), SeqFeature(FeatureLocation(ExactPosition(155623), ExactPosition(156478), strand=-1), type='CDS'), SeqFeature(FeatureLocation(ExactPosition(156632), ExactPosition(157523), strand=1), type='gene'), SeqFeature(FeatureLocation(ExactPosition(156632), ExactPosition(157523), strand=1), type='CDS'), SeqFeature(FeatureLocation(ExactPosition(157740), ExactPosition(159495), strand=1), type='gene'), SeqFeature(FeatureLocation(ExactPosition(157740), ExactPosition(159495), strand=1), type='CDS'), SeqFeature(FeatureLocation(ExactPosition(159878), ExactPosition(160865), strand=1), type='gene'), SeqFeature(FeatureLocation(ExactPosition(159878), ExactPosition(160865), strand=1), type='CDS'), SeqFeature(FeatureLocation(ExactPosition(161201), ExactPosition(162683), strand=1), type='gene'), SeqFeature(FeatureLocation(ExactPosition(161201), ExactPosition(162683), strand=1), type='CDS'), SeqFeature(FeatureLocation(ExactPosition(162708), ExactPosition(163680), strand=1), type='gene'), SeqFeature(FeatureLocation(ExactPosition(162708), ExactPosition(163680), strand=1), type='CDS'), SeqFeature(FeatureLocation(ExactPosition(163920), ExactPosition(164523), strand=-1), type='gene'), SeqFeature(FeatureLocation(ExactPosition(163920), ExactPosition(164523), strand=-1), type='CDS'), SeqFeature(FeatureLocation(ExactPosition(164803), ExactPosition(166015), strand=1), type='gene'), SeqFeature(FeatureLocation(ExactPosition(164803), ExactPosition(166015), strand=1), type='CDS'), SeqFeature(FeatureLocation(ExactPosition(166078), ExactPosition(166360), strand=-1), type='gene'), SeqFeature(FeatureLocation(ExactPosition(166078), ExactPosition(166360), strand=-1), type='CDS'), SeqFeature(FeatureLocation(ExactPosition(166313), ExactPosition(167285), strand=1), type='gene'), SeqFeature(FeatureLocation(ExactPosition(166313), ExactPosition(167285), strand=1), type='CDS'), SeqFeature(FeatureLocation(ExactPosition(166471), ExactPosition(166750), strand=-1), type='gene'), SeqFeature(FeatureLocation(ExactPosition(166471), ExactPosition(166750), strand=-1), type='CDS'), SeqFeature(FeatureLocation(ExactPosition(167471), ExactPosition(167849), strand=1), type='gene'), SeqFeature(FeatureLocation(ExactPosition(167471), ExactPosition(167849), strand=1), type='CDS'), SeqFeature(FeatureLocation(ExactPosition(168379), ExactPosition(169039), strand=1), type='gene'), SeqFeature(FeatureLocation(ExactPosition(168379), ExactPosition(169039), strand=1), type='CDS'), SeqFeature(FeatureLocation(ExactPosition(169332), ExactPosition(169674), strand=1), type='gene'), SeqFeature(FeatureLocation(ExactPosition(169332), ExactPosition(169674), strand=1), type='CDS'), SeqFeature(FeatureLocation(ExactPosition(169806), ExactPosition(170238), strand=1), type='gene'), SeqFeature(FeatureLocation(ExactPosition(169806), ExactPosition(170238), strand=1), type='CDS'), SeqFeature(FeatureLocation(ExactPosition(170439), ExactPosition(171081), strand=1), type='gene'), SeqFeature(FeatureLocation(ExactPosition(170439), ExactPosition(171081), strand=1), type='CDS'), SeqFeature(FeatureLocation(ExactPosition(171104), ExactPosition(172358), strand=1), type='gene'), SeqFeature(FeatureLocation(ExactPosition(171104), ExactPosition(172358), strand=1), type='CDS'), SeqFeature(FeatureLocation(ExactPosition(172403), ExactPosition(173054), strand=1), type='gene'), SeqFeature(FeatureLocation(ExactPosition(172403), ExactPosition(173054), strand=1), type='CDS'), SeqFeature(FeatureLocation(ExactPosition(173104), ExactPosition(173701), strand=1), type='gene'), SeqFeature(FeatureLocation(ExactPosition(173104), ExactPosition(173701), strand=1), type='CDS'), SeqFeature(FeatureLocation(ExactPosition(173713), ExactPosition(174553), strand=1), type='gene'), SeqFeature(FeatureLocation(ExactPosition(173713), ExactPosition(174553), strand=1), type='CDS'), SeqFeature(FeatureLocation(ExactPosition(174797), ExactPosition(175952), strand=1), type='gene'), SeqFeature(FeatureLocation(ExactPosition(174797), ExactPosition(175952), strand=1), type='CDS'), SeqFeature(FeatureLocation(ExactPosition(176257), ExactPosition(176437), strand=1), type='gene'), SeqFeature(FeatureLocation(ExactPosition(176257), ExactPosition(176437), strand=1), type='CDS')]\n"
     ]
    }
   ],
   "source": [
    "print(\"Features: \", Cdifficile.features)"
   ]
  }
 ],
 "metadata": {
  "kernelspec": {
   "display_name": "Python 3",
   "language": "python",
   "name": "python3"
  },
  "language_info": {
   "codemirror_mode": {
    "name": "ipython",
    "version": 3
   },
   "file_extension": ".py",
   "mimetype": "text/x-python",
   "name": "python",
   "nbconvert_exporter": "python",
   "pygments_lexer": "ipython3",
   "version": "3.10.6 (main, Nov 14 2022, 16:10:14) [GCC 11.3.0]"
  },
  "orig_nbformat": 4,
  "vscode": {
   "interpreter": {
    "hash": "916dbcbb3f70747c44a77c7bcd40155683ae19c65e1c03b4aa3499c5328201f1"
   }
  }
 },
 "nbformat": 4,
 "nbformat_minor": 2
}
