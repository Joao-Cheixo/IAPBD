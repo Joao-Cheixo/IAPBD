{
 "cells": [
  {
   "attachments": {},
   "cell_type": "markdown",
   "metadata": {},
   "source": [
    " Bactéria Burkholderia cepacia"
   ]
  },
  {
   "cell_type": "code",
   "execution_count": null,
   "metadata": {},
   "outputs": [],
   "source": [
    "import re\n",
    "from Bio import SeqIO\n",
    "from Bio.Seq import Seq\n",
    "from Bio.SeqRecord import SeqRecord\n",
    "from Bio import SeqFeature\n",
    "\n",
    "fonte = open(\"Bcepacia.gb\",'r')\n",
    "locus = fonte.read()\n",
    "fonte.close()\n",
    "print( locus )"
   ]
  },
  {
   "cell_type": "code",
   "execution_count": 15,
   "metadata": {},
   "outputs": [
    {
     "name": "stdout",
     "output_type": "stream",
     "text": [
      "https://www.ncbi.nlm.nih.gov/nuccore/FOIG01000060\n"
     ]
    }
   ],
   "source": [
    "existe = re.search(r'ACCESSION\\s+[^\\s]+', locus)\n",
    "if existe:\n",
    "    # print( existe[0] )\n",
    "    m = re.match(r'ACCESSION\\s+([^\\s]+)', existe[0] )\n",
    "    if m:\n",
    "        id = m.group(1)\n",
    "        print( \"https://www.ncbi.nlm.nih.gov/nuccore/{}\".format( id ) )\n",
    "else:\n",
    "    print( \"Padrão não encontrado\" )"
   ]
  },
  {
   "cell_type": "code",
   "execution_count": 16,
   "metadata": {},
   "outputs": [
    {
     "name": "stdout",
     "output_type": "stream",
     "text": [
      "FOIG01000060 Burkholderia cepacia\n"
     ]
    }
   ],
   "source": [
    "flag = False\n",
    "source = \"\"\n",
    "locusid = \"\"\n",
    "fonte = open(\"Bcepacia.gb\",'r')\n",
    "\n",
    "for linha in fonte:\n",
    "    if re.search(r\"^LOCUS\", linha):\n",
    "        s = re.match(r\"LOCUS\\s+([^ ]+)\", linha)\n",
    "        if s:\n",
    "            locusid = s.group(1)    \n",
    "    if re.search(r\"^SOURCE\", linha):\n",
    "        s = re.match(r\"SOURCE\\s+(.+)\", linha)\n",
    "        if s:\n",
    "            source = s.group(1)\n",
    "    if re.search(r\"//\", linha):\n",
    "        flag = False  \n",
    "    if re.search(r\"ORIGIN\", linha):\n",
    "        flag = True\n",
    "fonte.close()\n",
    "print( locusid, source)"
   ]
  },
  {
   "cell_type": "code",
   "execution_count": 17,
   "metadata": {},
   "outputs": [
    {
     "name": "stdout",
     "output_type": "stream",
     "text": [
      "Direct Submission \n"
     ]
    }
   ],
   "source": [
    "existe = re.findall(r'TITLE\\s+.*?(?=JOURNAL)', locus, re.DOTALL)\n",
    "if existe:\n",
    "    for title in existe:\n",
    "        m = re.match( r'TITLE\\s+(.+)', title, re.DOTALL )\n",
    "        # print( m.group(1) )\n",
    "        print( re.sub(r'\\s+', ' ', m.group(1) ) )"
   ]
  },
  {
   "cell_type": "code",
   "execution_count": 18,
   "metadata": {},
   "outputs": [
    {
     "name": "stdout",
     "output_type": "stream",
     "text": [
      "ID:  FOIG01000060.1\n",
      "Descrição:  Burkholderia cepacia strain NFACC38-1 genome assembly, contig: Ga0058964_scaffold00060.60, whole genome shotgun sequence\n",
      "Tipo de molécula:  DNA\n",
      "Código do registo:  ['FOIG01000060', 'FOIG01000000']\n"
     ]
    }
   ],
   "source": [
    "Bcepacia = SeqIO.read(\"Bcepacia.gb\", \"genbank\")\n",
    "\n",
    "print(\"ID: \", Bcepacia.id)\n",
    "print(\"Descrição: \", Bcepacia.description)\n",
    "print(\"Tipo de molécula: \", Bcepacia.annotations['molecule_type'])\n",
    "print(\"Código do registo: \", Bcepacia.annotations['accessions'])\n"
   ]
  },
  {
   "cell_type": "code",
   "execution_count": 19,
   "metadata": {},
   "outputs": [
    {
     "name": "stdout",
     "output_type": "stream",
     "text": [
      "Keywords:\n",
      " dict_keys(['molecule_type', 'topology', 'data_file_division', 'date', 'accessions', 'sequence_version', 'keywords', 'source', 'organism', 'taxonomy', 'references', 'comment', 'structured_comment'])\n",
      "Tamanho da sequência:  2682 pb\n",
      "['BioProject:PRJEB17051', 'BioSample:SAMN03159335']\n",
      "13\n"
     ]
    }
   ],
   "source": [
    "print (\"Keywords:\\n\",Bcepacia.annotations.keys())\n",
    "print(\"Tamanho da sequência: \", len(Bcepacia), \"pb\")\n",
    "print(Bcepacia.dbxrefs)\n",
    "print(len(Bcepacia.annotations) )\n"
   ]
  },
  {
   "cell_type": "code",
   "execution_count": 20,
   "metadata": {},
   "outputs": [
    {
     "name": "stdout",
     "output_type": "stream",
     "text": [
      "Organismo: Burkholderia cepacia\n",
      "Taxonomia: ['Bacteria', 'Proteobacteria', 'Betaproteobacteria', 'Burkholderiales', 'Burkholderiaceae', 'Burkholderia', 'Burkholderia cepacia complex']\n"
     ]
    }
   ],
   "source": [
    "print(\"Organismo:\", Bcepacia.annotations[\"organism\"])\n",
    "print(\"Taxonomia:\", Bcepacia.annotations[\"taxonomy\"])"
   ]
  },
  {
   "cell_type": "code",
   "execution_count": 21,
   "metadata": {},
   "outputs": [
    {
     "name": "stdout",
     "output_type": "stream",
     "text": [
      "{}\n"
     ]
    }
   ],
   "source": [
    "print(Bcepacia.letter_annotations)"
   ]
  },
  {
   "cell_type": "code",
   "execution_count": 22,
   "metadata": {},
   "outputs": [
    {
     "name": "stdout",
     "output_type": "stream",
     "text": [
      "Features:  [SeqFeature(FeatureLocation(ExactPosition(0), ExactPosition(2682), strand=1), type='source'), SeqFeature(FeatureLocation(ExactPosition(1193), ExactPosition(1802), strand=1), type='gene'), SeqFeature(FeatureLocation(ExactPosition(1193), ExactPosition(1802), strand=1), type='CDS'), SeqFeature(FeatureLocation(ExactPosition(2198), ExactPosition(2284), strand=1), type='gene'), SeqFeature(FeatureLocation(ExactPosition(2198), ExactPosition(2284), strand=1), type='tRNA'), SeqFeature(FeatureLocation(ExactPosition(2327), ExactPosition(2401), strand=1), type='gene'), SeqFeature(FeatureLocation(ExactPosition(2327), ExactPosition(2401), strand=1), type='tRNA'), SeqFeature(FeatureLocation(ExactPosition(2425), ExactPosition(2500), strand=1), type='gene'), SeqFeature(FeatureLocation(ExactPosition(2425), ExactPosition(2500), strand=1), type='tRNA')]\n"
     ]
    }
   ],
   "source": [
    "print(\"Features: \", Bcepacia.features)"
   ]
  }
 ],
 "metadata": {
  "kernelspec": {
   "display_name": "Python 3",
   "language": "python",
   "name": "python3"
  },
  "language_info": {
   "codemirror_mode": {
    "name": "ipython",
    "version": 3
   },
   "file_extension": ".py",
   "mimetype": "text/x-python",
   "name": "python",
   "nbconvert_exporter": "python",
   "pygments_lexer": "ipython3",
   "version": "3.10.6 (main, Nov 14 2022, 16:10:14) [GCC 11.3.0]"
  },
  "orig_nbformat": 4,
  "vscode": {
   "interpreter": {
    "hash": "916dbcbb3f70747c44a77c7bcd40155683ae19c65e1c03b4aa3499c5328201f1"
   }
  }
 },
 "nbformat": 4,
 "nbformat_minor": 2
}
