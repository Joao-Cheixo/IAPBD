{
 "cells": [
  {
   "cell_type": "code",
   "execution_count": 2,
   "id": "6e06656d",
   "metadata": {},
   "outputs": [],
   "source": [
    "#importação dos diferentes packages\n",
    "\n",
    "from Bio import SeqIO\n",
    "from Bio.Seq import Seq\n",
    "from Bio.SeqRecord import SeqRecord\n",
    "from Bio import SeqFeature"
   ]
  },
  {
   "cell_type": "code",
   "execution_count": 3,
   "id": "86102337",
   "metadata": {},
   "outputs": [
    {
     "name": "stdout",
     "output_type": "stream",
     "text": [
      "LOCUS       CDGQ01000079            1948 bp    DNA     linear   BCT 31-MAR-2015\n",
      "DEFINITION  Streptococcus pyogenes serotype M18 genome assembly M18GASBO5,\n",
      "            contig M18GASBO5_82, whole genome shotgun sequence.\n",
      "ACCESSION   CDGQ01000079 CDGQ01000000\n",
      "VERSION     CDGQ01000079.1\n",
      "DBLINK      BioProject: PRJEB7108\n",
      "            BioSample: SAMEA2734417\n",
      "KEYWORDS    WGS.\n",
      "SOURCE      Streptococcus pyogenes serotype M18\n",
      "  ORGANISM  Streptococcus pyogenes serotype M18\n",
      "            Bacteria; Bacillota; Bacilli; Lactobacillales; Streptococcaceae;\n",
      "            Streptococcus.\n",
      "REFERENCE   1\n",
      "  AUTHORS   Pongolini,Stefano., Casadei,Gabriele. and Scaltriti,Erika.\n",
      "  TITLE     Direct Submission\n",
      "  JOURNAL   Submitted (13-NOV-2014) IZLSLER, Sezione di Parma, Sezione di\n",
      "            Parma, IZSLER, Strada Mercati 13/A, 43126, Italy\n",
      "FEATURES             Location/Qualifiers\n",
      "     source          1..1948\n",
      "                     /organism=\"Streptococcus pyogenes serotype M18\"\n",
      "                     /mol_type=\"genomic DNA\"\n",
      "                     /strain=\"DI\"\n",
      "                     /serotype=\"M18\"\n",
      "                     /isolate=\"M18BO\"\n",
      "                     /db_xref=\"taxon:301451\"\n",
      "ORIGIN      \n",
      "        1 ctccgtagga gtttaagtta atcgctgaga taatatcgct gccagacatt ttactttgcg\n",
      "       61 ggattttgtc tttaatcgca agcatgatac tgtcaccaga tagcctcaag agggactgaa\n",
      "      121 ttttttctaa ggtcacagac tgatttatca agctttttag ctgtgtaaag ttagaggaga\n",
      "      181 tagtgttatc ctgattggat atcctgcgct cataacccgc tacagtctct ctcaaactgt\n",
      "      241 tgtaattgcc ctctgcggat tgtaatcgcc gctgatagct agctaagttc tgctgcacac\n",
      "      301 gactgacagc tccttcgcgg ttacgtatct cttgtgagat ttggctagct gttgactgct\n",
      "      361 gtacagctct tagtccgctg atttgagact cgagctccgt cctcatgcct tgattactac\n",
      "      421 gagtaaactc agcacgtaaa ccctcgagct tgttttcgta ggcttcggtc gtgccgcttg\n",
      "      481 aggttgttgt gatcttagca gataactgtc ttagctcgtt atcatacttt tgtgataatc\n",
      "      541 cttgagcggt tgcttgtatc tcagcttgta aaccgatttt atcattggtt agttgagctt\n",
      "      601 ttagaccatt gagccctgcc tgataattag cagacaattg cctatcagca tctcgatagt\n",
      "      661 cttgtcgcaa accatcgata ctagcctgta aactagctgt ctgtttgttt gctttgttta\n",
      "      721 aatcaagttt tagaccatcg accgtcaagc cgagttgagc ggtcttttgc tctagcaaac\n",
      "      781 tcttaagctg gatacgctga ccttgcactg tccttagaaa ctcggactta agtcctcgct\n",
      "      841 cagtatcaga tatagtctct ctgatacctt gagccgttgt taaaatctca tttttaatag\n",
      "      901 tcgtatcaaa gtatgtctgt aacataccat gattgtttag cttgattttt gcccagagct\n",
      "      961 gagagttagc agtatctgtc agctctaaat taagctcttt gaggtcttta aatagtccag\n",
      "     1021 tcggattacc tgtcccctcg acaaccacgg gcgccacgta attagttggc ttatctcctc\n",
      "     1081 gctcaatcat gagctggtta aagcgagttg taccgataca tttgttattg gctattttaa\n",
      "     1141 cgctttttgt gtcaccatca gccgtaaatg tataataagc acgtccatct gagccgattg\n",
      "     1201 ttaaatttga ctcgtctatt aaaagtgttg ggtctctgct catttatcct ccttaatcta\n",
      "     1261 tttttttggt atgagttttt ttaactcaga aattgcttta tctacgtaat ctttagtcgc\n",
      "     1321 agcatgtttt tcagatattg gatcgttaac tgttagatta ccagctacag ttgaacttgc\n",
      "     1381 atatgagtga aagccgccat ctggatttac ataaaatttg tctttatttt tatttctgat\n",
      "     1441 tctgagcatt ttaccagttg tgcctgcgga cgaattgatg aaaatgcctt gggcagcagt\n",
      "     1501 accatttcca ctggctcccc gttttccaac gatatcaata gataacgctg cagcgttttc\n",
      "     1561 atcgtatttt gcgttagcgc ttgggttttc atgtgtgatt ttgagcgttc ccaattttct\n",
      "     1621 ttcgatacct ctaatttgca tcgcactacc gccctcgtta gcacttgtta tattaagtgc\n",
      "     1681 ggaggaaaaa ttaggttcgc ttggctggcg cattacaata tttacagcat tagtcttacc\n",
      "     1741 gctgtaatcc acaaattgag ctgactgatc aaacgtatct ttgtcagagc gtaaaatcat\n",
      "     1801 caatggtcca tcagtagtat ctttatttgt atacatcacc atagcagcac ctgctgattt\n",
      "     1861 agacatatca atgttaatcg ctcctcctgt agaagatgac ttctcaatac cactattagg\n",
      "     1921 tttaagccgt agttgtcctg tcactatg\n",
      "//\n",
      "\n",
      "\n"
     ]
    }
   ],
   "source": [
    "#ler o ficheiro\n",
    "\n",
    "import re\n",
    "\n",
    "fonte = open(\"Spyogenes.gb\",'r')\n",
    "Spyogenes = fonte.read()\n",
    "fonte.close()\n",
    "print( Spyogenes )"
   ]
  },
  {
   "cell_type": "code",
   "execution_count": 4,
   "id": "05a91dcb",
   "metadata": {},
   "outputs": [
    {
     "name": "stdout",
     "output_type": "stream",
     "text": [
      "https://www.ncbi.nlm.nih.gov/nuccore/CDGQ01000079\n"
     ]
    }
   ],
   "source": [
    "#imprimir o link NCBI\n",
    "\n",
    "existe = re.search(r'ACCESSION\\s+[^\\s]+', Spyogenes)\n",
    "if existe:\n",
    "    m = re.match(r'ACCESSION\\s+([^\\s]+)', existe[0] )\n",
    "    if m:\n",
    "        id = m.group(1)\n",
    "        print( \"https://www.ncbi.nlm.nih.gov/nuccore/{}\".format( id ) )\n",
    "else:\n",
    "    print( \"Padrão não encontrado\" )"
   ]
  },
  {
   "cell_type": "code",
   "execution_count": 14,
   "id": "6da8cbfc",
   "metadata": {},
   "outputs": [
    {
     "name": "stdout",
     "output_type": "stream",
     "text": [
      "Direct Submission \n"
     ]
    }
   ],
   "source": [
    "#imprimir o título\n",
    "\n",
    "existe = re.findall(r'TITLE\\s+.*?(?=JOURNAL)', Spyogenes , re.DOTALL)\n",
    "if existe:\n",
    "    for title in existe:\n",
    "        m = re.match( r'TITLE\\s+(.+)', title, re.DOTALL )\n",
    "        print( re.sub(r'\\s+', ' ', m.group(1) ) )"
   ]
  },
  {
   "cell_type": "code",
   "execution_count": 15,
   "id": "cdc5c6a3",
   "metadata": {},
   "outputs": [
    {
     "name": "stdout",
     "output_type": "stream",
     "text": [
      "Pongolini,Stefano., Casadei,Gabriele. and Scaltriti,Erika. TITLE Direct Submission \n"
     ]
    }
   ],
   "source": [
    "existe = re.findall(r'AUTHORS\\s+.*?(?=JOURNAL)', Spyogenes, re.DOTALL)\n",
    "if existe:\n",
    "    for authors in existe:\n",
    "        m = re.match( r'AUTHORS\\s+(.+)', authors, re.DOTALL )\n",
    "        print( re.sub(r'\\s+', ' ', m.group(1) ) )"
   ]
  },
  {
   "cell_type": "code",
   "execution_count": 11,
   "id": "4706ff00",
   "metadata": {},
   "outputs": [
    {
     "name": "stdout",
     "output_type": "stream",
     "text": [
      "CDGQ01000079 Streptococcus pyogenes serotype M18\n"
     ]
    }
   ],
   "source": [
    "#imprimir o locus e a source\n",
    "\n",
    "flag = False\n",
    "source = \"\"\n",
    "locusid = \"\"\n",
    "fonte = open(\"Spyogenes.gb\",'r')\n",
    "for linha in fonte:\n",
    "    if re.search(r\"^LOCUS\", linha):\n",
    "        s = re.match(r\"LOCUS\\s+([^ ]+)\", linha)\n",
    "        if s:\n",
    "            locusid = s.group(1)    \n",
    "    if re.search(r\"^SOURCE\", linha):\n",
    "        s = re.match(r\"SOURCE\\s+(.+)\", linha)\n",
    "        if s:\n",
    "            source = s.group(1)\n",
    "    if re.search(r\"//\", linha):\n",
    "        flag = False  \n",
    "    if re.search(r\"ORIGIN\", linha):\n",
    "        flag = True\n",
    "fonte.close()\n",
    "print( locusid, source)"
   ]
  },
  {
   "cell_type": "code",
   "execution_count": 14,
   "id": "fce88adc",
   "metadata": {},
   "outputs": [
    {
     "name": "stdout",
     "output_type": "stream",
     "text": [
      "ID:  CDGQ01000079.1\n",
      "Descrição:  Streptococcus pyogenes serotype M18 genome assembly M18GASBO5, contig M18GASBO5_82, whole genome shotgun sequence\n",
      "Locus:  CDGQ01000079\n",
      "bp:  1948\n",
      "Tamanho da sequência:  1948 pb\n",
      "Features:  [SeqFeature(FeatureLocation(ExactPosition(0), ExactPosition(1948), strand=1), type='source')]\n",
      "Tamanho das features:  1\n",
      "tamanho das features do tipo CDS:  0\n",
      "tamanho das features do tipo gene:  0\n",
      "Referências bibliográficas relacionadas com registo:\n",
      " [Reference(title='Direct Submission', ...)]\n",
      "Tamanho das annotations: 11\n",
      "from: Streptococcus pyogenes serotype M18\n",
      "{}\n",
      "Organismo: Streptococcus pyogenes serotype M18\n",
      "Taxonomia: ['Bacteria', 'Bacillota', 'Bacilli', 'Lactobacillales', 'Streptococcaceae', 'Streptococcus']\n",
      "Tipo de molécula:  DNA\n",
      "Código do registo:  ['CDGQ01000079', 'CDGQ01000000']\n",
      "Keywords:\n",
      " dict_keys(['molecule_type', 'topology', 'data_file_division', 'date', 'accessions', 'sequence_version', 'keywords', 'source', 'organism', 'taxonomy', 'references'])\n",
      "['BioProject:PRJEB7108', 'BioSample:SAMEA2734417']\n"
     ]
    }
   ],
   "source": [
    "#ler o ficheiro\n",
    "Spyogenes = SeqIO.read(\"Spyogenes.gb\", \"genbank\")\n",
    "\n",
    "#Bactéria\n",
    "print(\"ID: \", Spyogenes.id)\n",
    "print(\"Descrição: \", Spyogenes.description)\n",
    "\n",
    "#Locus\n",
    "print(\"Locus: \", Spyogenes.name)\n",
    "print(\"bp: \", len(Spyogenes))\n",
    "\n",
    "#Sequência\n",
    "print(\"Tamanho da sequência: \", len(Spyogenes), \"pb\")\n",
    "\n",
    "#Features\n",
    "print(\"Features: \", Spyogenes.features)\n",
    "print(\"Tamanho das features: \", len(Spyogenes.features))\n",
    "#Identificação de features do tipo CDS e a sua localização:\n",
    "featcds = [] \n",
    "for i in range(len(Spyogenes.features)):\n",
    "    if Spyogenes.features[i].type=='CDS':\n",
    "        featcds.append(i)\n",
    "for k in featcds:\n",
    "    print(\"Features do tipo CDS e a sua localização:\\n\",Spyogenes.features[k].location)\n",
    "print(\"tamanho das features do tipo CDS: \",len(featcds))\n",
    "\n",
    "featgenes = []  #número de genes anotados no registo (feature tipo “gene”)\n",
    "for i in range(len(Spyogenes.features)):\n",
    "    if Spyogenes.features[i].type == \"gene\":\n",
    "        featgenes.append(i)\n",
    "print(\"tamanho das features do tipo gene: \", len(featgenes))\n",
    "\n",
    "#Reference\n",
    "print(\"Referências bibliográficas relacionadas com registo:\\n\", Spyogenes.annotations['references'])\n",
    "\n",
    "#Anotations\n",
    "print(\"Tamanho das annotations:\", len(Spyogenes.annotations) )\n",
    "print(\"from:\", Spyogenes.annotations[\"source\"])\n",
    "print(Spyogenes.letter_annotations)\n",
    "print(\"Organismo:\", Spyogenes.annotations[\"organism\"])\n",
    "print(\"Taxonomia:\", Spyogenes.annotations[\"taxonomy\"])\n",
    "print(\"Tipo de molécula: \", Spyogenes.annotations['molecule_type'])\n",
    "print(\"Código do registo: \", Spyogenes.annotations['accessions'])\n",
    "print (\"Keywords:\\n\",Spyogenes.annotations.keys())\n",
    "\n",
    "\n",
    "print(Spyogenes.dbxrefs)\n"
   ]
  },
  {
   "cell_type": "code",
   "execution_count": 13,
   "id": "d2037b1b",
   "metadata": {},
   "outputs": [
    {
     "name": "stdout",
     "output_type": "stream",
     "text": [
      "CTCCGTAGGAGTTTAAGTTAATCGCTGAGATAATATCGCTGCCAGACATTTTACTTTGCGGGATTTTGTCTTTAATCGCAAGCATGATACTGTCACCAGATAGCCTCAAGAGGGACTGAATTTTTTCTAAGGTCACAGACTGATTTATCAAGCTTTTTAGCTGTGTAAAGTTAGAGGAGATAGTGTTATCCTGATTGGATATCCTGCGCTCATAACCCGCTACAGTCTCTCTCAAACTGTTGTAATTGCCCTCTGCGGATTGTAATCGCCGCTGATAGCTAGCTAAGTTCTGCTGCACACGACTGACAGCTCCTTCGCGGTTACGTATCTCTTGTGAGATTTGGCTAGCTGTTGACTGCTGTACAGCTCTTAGTCCGCTGATTTGAGACTCGAGCTCCGTCCTCATGCCTTGATTACTACGAGTAAACTCAGCACGTAAACCCTCGAGCTTGTTTTCGTAGGCTTCGGTCGTGCCGCTTGAGGTTGTTGTGATCTTAGCAGATAACTGTCTTAGCTCGTTATCATACTTTTGTGATAATCCTTGAGCGGTTGCTTGTATCTCAGCTTGTAAACCGATTTTATCATTGGTTAGTTGAGCTTTTAGACCATTGAGCCCTGCCTGATAATTAGCAGACAATTGCCTATCAGCATCTCGATAGTCTTGTCGCAAACCATCGATACTAGCCTGTAAACTAGCTGTCTGTTTGTTTGCTTTGTTTAAATCAAGTTTTAGACCATCGACCGTCAAGCCGAGTTGAGCGGTCTTTTGCTCTAGCAAACTCTTAAGCTGGATACGCTGACCTTGCACTGTCCTTAGAAACTCGGACTTAAGTCCTCGCTCAGTATCAGATATAGTCTCTCTGATACCTTGAGCCGTTGTTAAAATCTCATTTTTAATAGTCGTATCAAAGTATGTCTGTAACATACCATGATTGTTTAGCTTGATTTTTGCCCAGAGCTGAGAGTTAGCAGTATCTGTCAGCTCTAAATTAAGCTCTTTGAGGTCTTTAAATAGTCCAGTCGGATTACCTGTCCCCTCGACAACCACGGGCGCCACGTAATTAGTTGGCTTATCTCCTCGCTCAATCATGAGCTGGTTAAAGCGAGTTGTACCGATACATTTGTTATTGGCTATTTTAACGCTTTTTGTGTCACCATCAGCCGTAAATGTATAATAAGCACGTCCATCTGAGCCGATTGTTAAATTTGACTCGTCTATTAAAAGTGTTGGGTCTCTGCTCATTTATCCTCCTTAATCTATTTTTTTGGTATGAGTTTTTTTAACTCAGAAATTGCTTTATCTACGTAATCTTTAGTCGCAGCATGTTTTTCAGATATTGGATCGTTAACTGTTAGATTACCAGCTACAGTTGAACTTGCATATGAGTGAAAGCCGCCATCTGGATTTACATAAAATTTGTCTTTATTTTTATTTCTGATTCTGAGCATTTTACCAGTTGTGCCTGCGGACGAATTGATGAAAATGCCTTGGGCAGCAGTACCATTTCCACTGGCTCCCCGTTTTCCAACGATATCAATAGATAACGCTGCAGCGTTTTCATCGTATTTTGCGTTAGCGCTTGGGTTTTCATGTGTGATTTTGAGCGTTCCCAATTTTCTTTCGATACCTCTAATTTGCATCGCACTACCGCCCTCGTTAGCACTTGTTATATTAAGTGCGGAGGAAAAATTAGGTTCGCTTGGCTGGCGCATTACAATATTTACAGCATTAGTCTTACCGCTGTAATCCACAAATTGAGCTGACTGATCAAACGTATCTTTGTCAGAGCGTAAAATCATCAATGGTCCATCAGTAGTATCTTTATTTGTATACATCACCATAGCAGCACCTGCTGATTTAGACATATCAATGTTAATCGCTCCTCCTGTAGAAGATGACTTCTCAATACCACTATTAGGTTTAAGCCGTAGTTGTCCTGTCACTATG\n"
     ]
    }
   ],
   "source": [
    "print(Spyogenes.seq)"
   ]
  },
  {
   "cell_type": "markdown",
   "id": "a226f229",
   "metadata": {},
   "source": [
    "Bactérias\\\n",
    "    id_bacteria: \\\n",
    "    id: CDGQ01000079.1 \\\n",
    "    classificacao: Resistente a antibióticos\\\n",
    "    descrição: Streptococcus pyogenes serotype M18 genome assembly M18GASBO5, contig M18GASBO5_82, whole genome shotgun sequence\\\n",
    "    link_NCBI: https://www.ncbi.nlm.nih.gov/nuccore/CDGQ01000079\n",
    "    \n",
    "Locus\\\n",
    "    id_locus: \\\n",
    "    id_l: CDGQ01000079 \\\n",
    "    bp: 1948\n",
    "    \n",
    "Sequência\\\n",
    "    id_seq\\\n",
    "    len_seq: 1948 bp\n",
    "\n",
    "Features\\\n",
    "    id_features\\\n",
    "    tamanho: 1\\\n",
    "    location\\\n",
    "    type\\\n",
    "        CDS: 0\\\n",
    "        gene: 0\n",
    "\n",
    "Reference\\\n",
    "    id_reference\\\n",
    "    journal\\\n",
    "    title: Direct Submission \\\n",
    "    author: Pongolini,Stefano., Casadei,Gabriele. and Scaltriti,Erika\n",
    "    \n",
    "Anotations\\\n",
    "    id_anotations\\\n",
    "    tamanho das anotations: 11\\\n",
    "    source: Streptococcus pyogenes serotype M18\\\n",
    "    letter_anotations: {} \\\n",
    "    organism: Streptococcus pyogenes serotype M18\\\n",
    "    taxonomy: 'Bacteria', 'Bacillota', 'Bacilli', 'Lactobacillales', 'Streptococcaceae', 'Streptococcus'\\\n",
    "    mol_type: DNA\\\n",
    "    keywords: 'molecule_type', 'topology', 'data_file_division', 'date', 'accessions', 'sequence_version', 'keywords', 'source', 'organism', 'taxonomy', 'references'\\\n",
    "    accessions: 'CDGQ01000079', 'CDGQ01000000'\n",
    "    \n",
    "dbxrefs: 'BioProject:PRJEB7108', 'BioSample:SAMEA2734417'"
   ]
  }
 ],
 "metadata": {
  "kernelspec": {
   "display_name": "Python 3 (ipykernel)",
   "language": "python",
   "name": "python3"
  },
  "language_info": {
   "codemirror_mode": {
    "name": "ipython",
    "version": 3
   },
   "file_extension": ".py",
   "mimetype": "text/x-python",
   "name": "python",
   "nbconvert_exporter": "python",
   "pygments_lexer": "ipython3",
   "version": "3.9.12"
  }
 },
 "nbformat": 4,
 "nbformat_minor": 5
}
