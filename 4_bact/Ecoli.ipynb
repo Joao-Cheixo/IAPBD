{
 "cells": [
  {
   "cell_type": "code",
   "execution_count": 8,
   "id": "6e06656d",
   "metadata": {},
   "outputs": [],
   "source": [
    "#importação dos diferentes packages\n",
    "\n",
    "from Bio import SeqIO\n",
    "from Bio.Seq import Seq\n",
    "from Bio.SeqRecord import SeqRecord\n",
    "from Bio import SeqFeature"
   ]
  },
  {
   "cell_type": "code",
   "execution_count": 9,
   "id": "86102337",
   "metadata": {},
   "outputs": [
    {
     "name": "stdout",
     "output_type": "stream",
     "text": [
      "LOCUS       JSJU01002366            1068 bp    DNA     linear   BCT 13-NOV-2014\n",
      "DEFINITION  Escherichia coli strain upec-247 upec-247_ctg_12126, whole genome\n",
      "            shotgun sequence.\n",
      "ACCESSION   JSJU01002366 JSJU01000000\n",
      "VERSION     JSJU01002366.1\n",
      "DBLINK      BioProject: PRJNA248737\n",
      "            BioSample: SAMN02802072\n",
      "KEYWORDS    WGS.\n",
      "SOURCE      Escherichia coli\n",
      "  ORGANISM  Escherichia coli\n",
      "            Bacteria; Proteobacteria; Gammaproteobacteria; Enterobacterales;\n",
      "            Enterobacteriaceae; Escherichia.\n",
      "REFERENCE   1  (bases 1 to 1068)\n",
      "  AUTHORS   Salipante,S.J., Roach,D.J., Kitzman,J.O., Snyder,M.W.,\n",
      "            Stackhouse,B., Butler-Wu,S.M., Lee,C., Cookson,B.T. and Shendure,J.\n",
      "  TITLE     Large-scale genomic sequencing of extraintestinal pathogenic\n",
      "            Escherichia coli strains\n",
      "  JOURNAL   Genome Res. (2014) In press\n",
      "   PUBMED   25373147\n",
      "  REMARK    Publication Status: Available-Online prior to print\n",
      "REFERENCE   2  (bases 1 to 1068)\n",
      "  AUTHORS   Salipante,S., Roach,D., Kitzman,J., Snyder,M., Stackhouse,B.,\n",
      "            Butler-Wu,S., Lee,C., Cookson,B. and Shendure,J.\n",
      "  TITLE     Direct Submission\n",
      "  JOURNAL   Submitted (30-OCT-2014) University of Washington, 1959 NE Pacific\n",
      "            Street, Seattle, WA 98177, USA\n",
      "COMMENT     Source DNA available from Steve Salipante, University of Washington\n",
      "            Department of Laboratory Medicine, Box 357110, 1959 NE Pacific\n",
      "            Street, NW120 Seattle, WA 98195-7110.\n",
      "            \n",
      "            ##Genome-Assembly-Data-START##\n",
      "            Assembly Method       :: ABYSS v. 1.3.5\n",
      "            Genome Coverage       :: 2x\n",
      "            Sequencing Technology :: Illumina HiSeq\n",
      "            ##Genome-Assembly-Data-END##\n",
      "FEATURES             Location/Qualifiers\n",
      "     source          1..1068\n",
      "                     /organism=\"Escherichia coli\"\n",
      "                     /mol_type=\"genomic DNA\"\n",
      "                     /submitter_seqid=\"upec-247_ctg_12126\"\n",
      "                     /strain=\"upec-247\"\n",
      "                     /isolation_source=\"patient with urinary tract infection\"\n",
      "                     /host=\"Homo sapiens\"\n",
      "                     /db_xref=\"taxon:562\"\n",
      "                     /country=\"USA: WA\"\n",
      "                     /collection_date=\"2011\"\n",
      "                     /collected_by=\"University of Washington\"\n",
      "ORIGIN      \n",
      "        1 actccatacg gttgttggtg gtgcgggtgt agccagcgct aaaggttttc tcgcgtccgc\n",
      "       61 gatagcgtaa aatagcgccg taacccccag gtcctggatt gcccagacac gaaccatcgg\n",
      "      121 tgaaaatttc tacctgttta agcatctctg gtagacttcc tgtaattgaa tcgaactgta\n",
      "      181 aaacgacaag tctgacataa atgaccgcta tgagcactgc aattacacgc cagatcgttc\n",
      "      241 tcgataccga aaccaccggt atgaaccaga ttggtgcgca ctatgaaggc cacaagatca\n",
      "      301 ttgagattgg tgccgttgaa gtggtgaacc gtcgcctgac gggcaataac ttccatgttt\n",
      "      361 atctcaaacc cgatcggctg gtggatccgg aagcctttgg cgtacatggt attgccgatg\n",
      "      421 aatttttgct cgataagccc acgtttgccg aagtagccga tgagttcatg gactatattc\n",
      "      481 gcggcgcgga gttggtgatc cataacgcag cgttcgatat cggctttatg gactacgagt\n",
      "      541 tttcgttgct taagcgcgat attccgaaga ccaatacttt ctgtaaggtc accgatagcc\n",
      "      601 ttgcggtggc gaggaaaatg tttcccggta agcgcaacag cctcgatgcg ttatgtgctc\n",
      "      661 gctacgaaat agataacagt aaacgaacgc tgcacggggc attactcgat gcccagatcc\n",
      "      721 ttgcggaagt ttatctggcg atgaccggtg gtcaaacgtc gatggctttt gcgatggaag\n",
      "      781 gagagacaca acagcaacaa ggtgaagcaa caattcagcg cattgtacgt caggcaagta\n",
      "      841 agttacgcgt tgtttttgcg acagatgaag agattgcagc tcatgaagcc cgtctcgatc\n",
      "      901 tggtgcagaa gaaaggcgga agttgcctct ggcgagcata aatacctgtg aaaggcgcta\n",
      "      961 aaaatagcga cttgggcgat ttttgcagca aacgattcaa aagatgagaa aaaccgttga\n",
      "     1021 cgaaggtcga ggcaatccgt aatattcgcc tcgttcccaa cggaacac\n",
      "//\n",
      "\n",
      "\n"
     ]
    }
   ],
   "source": [
    "#ler o ficheiro\n",
    "\n",
    "import re\n",
    "\n",
    "fonte = open(\"Ecoli.gb\",'r')\n",
    "Ecoli = fonte.read()\n",
    "fonte.close()\n",
    "print( Ecoli )"
   ]
  },
  {
   "cell_type": "code",
   "execution_count": 10,
   "id": "05a91dcb",
   "metadata": {},
   "outputs": [
    {
     "name": "stdout",
     "output_type": "stream",
     "text": [
      "https://www.ncbi.nlm.nih.gov/nuccore/JSJU01002366\n"
     ]
    }
   ],
   "source": [
    "#imprimir o link NCBI\n",
    "\n",
    "existe = re.search(r'ACCESSION\\s+[^\\s]+', Ecoli)\n",
    "if existe:\n",
    "    m = re.match(r'ACCESSION\\s+([^\\s]+)', existe[0] )\n",
    "    if m:\n",
    "        id = m.group(1)\n",
    "        print( \"https://www.ncbi.nlm.nih.gov/nuccore/{}\".format( id ) )\n",
    "else:\n",
    "    print( \"Padrão não encontrado\" )"
   ]
  },
  {
   "cell_type": "code",
   "execution_count": 11,
   "id": "6da8cbfc",
   "metadata": {},
   "outputs": [
    {
     "name": "stdout",
     "output_type": "stream",
     "text": [
      "Large-scale genomic sequencing of extraintestinal pathogenic Escherichia coli strains \n",
      "Direct Submission \n"
     ]
    }
   ],
   "source": [
    "#imprimir o título\n",
    "\n",
    "existe = re.findall(r'TITLE\\s+.*?(?=JOURNAL)', Ecoli, re.DOTALL)\n",
    "if existe:\n",
    "    for title in existe:\n",
    "        m = re.match( r'TITLE\\s+(.+)', title, re.DOTALL )\n",
    "        print( re.sub(r'\\s+', ' ', m.group(1) ) )"
   ]
  },
  {
   "cell_type": "code",
   "execution_count": 12,
   "id": "4706ff00",
   "metadata": {},
   "outputs": [
    {
     "name": "stdout",
     "output_type": "stream",
     "text": [
      "JSJU01002366 Escherichia coli\n"
     ]
    }
   ],
   "source": [
    "#imprimir o locus e a source\n",
    "\n",
    "flag = False\n",
    "source = \"\"\n",
    "locusid = \"\"\n",
    "fonte = open(\"Ecoli.gb\",'r')\n",
    "for linha in fonte:\n",
    "    if re.search(r\"^LOCUS\", linha):\n",
    "        s = re.match(r\"LOCUS\\s+([^ ]+)\", linha)\n",
    "        if s:\n",
    "            locusid = s.group(1)    \n",
    "    if re.search(r\"^SOURCE\", linha):\n",
    "        s = re.match(r\"SOURCE\\s+(.+)\", linha)\n",
    "        if s:\n",
    "            source = s.group(1)\n",
    "    if re.search(r\"//\", linha):\n",
    "        flag = False  \n",
    "    if re.search(r\"ORIGIN\", linha):\n",
    "        flag = True\n",
    "fonte.close()\n",
    "print( locusid, source)"
   ]
  },
  {
   "cell_type": "code",
   "execution_count": 13,
   "id": "fce88adc",
   "metadata": {},
   "outputs": [
    {
     "name": "stdout",
     "output_type": "stream",
     "text": [
      "ID:  JSJU01002366.1\n",
      "Descrição:  Escherichia coli strain upec-247 upec-247_ctg_12126, whole genome shotgun sequence\n",
      "Locus:  JSJU01002366\n",
      "bp:  1068\n",
      "Tamanho da sequência:  1068 pb\n",
      "Features:  [SeqFeature(FeatureLocation(ExactPosition(0), ExactPosition(1068), strand=1), type='source')]\n",
      "Tamanho das features:  1\n",
      "0\n",
      "Referências bibliográficas relacionadas com registo:\n",
      " [Reference(title='Large-scale genomic sequencing of extraintestinal pathogenic Escherichia coli strains', ...), Reference(title='Direct Submission', ...)]\n",
      "13\n",
      "from: Escherichia coli\n",
      "{}\n",
      "Organismo: Escherichia coli\n",
      "Taxonomia: ['Bacteria', 'Proteobacteria', 'Gammaproteobacteria', 'Enterobacterales', 'Enterobacteriaceae', 'Escherichia']\n",
      "Tipo de molécula:  DNA\n",
      "Código do registo:  ['JSJU01002366', 'JSJU01000000']\n",
      "Keywords:\n",
      " dict_keys(['molecule_type', 'topology', 'data_file_division', 'date', 'accessions', 'sequence_version', 'keywords', 'source', 'organism', 'taxonomy', 'references', 'comment', 'structured_comment'])\n",
      "['BioProject:PRJNA248737', 'BioSample:SAMN02802072']\n"
     ]
    }
   ],
   "source": [
    "#ler o ficheiro\n",
    "Ecoli = SeqIO.read(\"Ecoli.gb\", \"genbank\")\n",
    "\n",
    "#Bactéria\n",
    "print(\"ID: \", Ecoli.id)\n",
    "print(\"Descrição: \", Ecoli.description)\n",
    "\n",
    "#Locus\n",
    "print(\"Locus: \", Ecoli.name)\n",
    "print(\"bp: \", len(Ecoli))\n",
    "\n",
    "#Sequência\n",
    "print(\"Tamanho da sequência: \", len(Ecoli), \"pb\")\n",
    "\n",
    "#Features\n",
    "print(\"Features: \", Ecoli.features)\n",
    "print(\"Tamanho das features: \", len(Ecoli.features))\n",
    "#Identificação de features do tipo CDS e a sua localização:\n",
    "featcds = [] \n",
    "for i in range(len(Ecoli.features)):\n",
    "    if Ecoli.features[i].type=='CDS':\n",
    "        featcds.append(i)\n",
    "for k in featcds:\n",
    "    print(\"Features do tipo CDS e a sua localização:\\n\",Ecoli.features[k].location)\n",
    "    print(len(featcds))\n",
    "\n",
    "featgenes = []  #número de genes anotados no registo (feature tipo “gene”)\n",
    "for i in range(len(Ecoli.features)):\n",
    "    if Ecoli.features[i].type == \"gene\":\n",
    "        featgenes.append(i)\n",
    "print(len(featgenes))\n",
    "\n",
    "#Reference\n",
    "print(\"Referências bibliográficas relacionadas com registo:\\n\", Ecoli.annotations['references'])\n",
    "\n",
    "#Anotations\n",
    "print(len(Ecoli.annotations) )\n",
    "print(\"from:\", Ecoli.annotations[\"source\"])\n",
    "print(Ecoli.letter_annotations)\n",
    "print(\"Organismo:\", Ecoli.annotations[\"organism\"])\n",
    "print(\"Taxonomia:\", Ecoli.annotations[\"taxonomy\"])\n",
    "print(\"Tipo de molécula: \", Ecoli.annotations['molecule_type'])\n",
    "print(\"Código do registo: \", Ecoli.annotations['accessions'])\n",
    "print (\"Keywords:\\n\",Ecoli.annotations.keys())\n",
    "\n",
    "\n",
    "print(Ecoli.dbxrefs)\n"
   ]
  },
  {
   "cell_type": "code",
   "execution_count": 14,
   "id": "d2037b1b",
   "metadata": {},
   "outputs": [
    {
     "name": "stdout",
     "output_type": "stream",
     "text": [
      "ACTCCATACGGTTGTTGGTGGTGCGGGTGTAGCCAGCGCTAAAGGTTTTCTCGCGTCCGCGATAGCGTAAAATAGCGCCGTAACCCCCAGGTCCTGGATTGCCCAGACACGAACCATCGGTGAAAATTTCTACCTGTTTAAGCATCTCTGGTAGACTTCCTGTAATTGAATCGAACTGTAAAACGACAAGTCTGACATAAATGACCGCTATGAGCACTGCAATTACACGCCAGATCGTTCTCGATACCGAAACCACCGGTATGAACCAGATTGGTGCGCACTATGAAGGCCACAAGATCATTGAGATTGGTGCCGTTGAAGTGGTGAACCGTCGCCTGACGGGCAATAACTTCCATGTTTATCTCAAACCCGATCGGCTGGTGGATCCGGAAGCCTTTGGCGTACATGGTATTGCCGATGAATTTTTGCTCGATAAGCCCACGTTTGCCGAAGTAGCCGATGAGTTCATGGACTATATTCGCGGCGCGGAGTTGGTGATCCATAACGCAGCGTTCGATATCGGCTTTATGGACTACGAGTTTTCGTTGCTTAAGCGCGATATTCCGAAGACCAATACTTTCTGTAAGGTCACCGATAGCCTTGCGGTGGCGAGGAAAATGTTTCCCGGTAAGCGCAACAGCCTCGATGCGTTATGTGCTCGCTACGAAATAGATAACAGTAAACGAACGCTGCACGGGGCATTACTCGATGCCCAGATCCTTGCGGAAGTTTATCTGGCGATGACCGGTGGTCAAACGTCGATGGCTTTTGCGATGGAAGGAGAGACACAACAGCAACAAGGTGAAGCAACAATTCAGCGCATTGTACGTCAGGCAAGTAAGTTACGCGTTGTTTTTGCGACAGATGAAGAGATTGCAGCTCATGAAGCCCGTCTCGATCTGGTGCAGAAGAAAGGCGGAAGTTGCCTCTGGCGAGCATAAATACCTGTGAAAGGCGCTAAAAATAGCGACTTGGGCGATTTTTGCAGCAAACGATTCAAAAGATGAGAAAAACCGTTGACGAAGGTCGAGGCAATCCGTAATATTCGCCTCGTTCCCAACGGAACAC\n"
     ]
    }
   ],
   "source": [
    "print(Ecoli.seq)"
   ]
  },
  {
   "cell_type": "markdown",
   "id": "a226f229",
   "metadata": {},
   "source": [
    "Bactérias\\\n",
    "    id_bacteria: \\\n",
    "    id: JSJU01002366.1\\\n",
    "    classificacao: IACS / Resistentes\\\n",
    "    descrição: Escherichia coli strain upec-247 upec-247_ctg_12126, whole genome shotgun sequence\\\n",
    "    link_NCBI: https://www.ncbi.nlm.nih.gov/nuccore/JSJU01002366\n",
    "    \n",
    "Locus\\\n",
    "    id_locus:\n",
    "    id_l: JSJU01002366\\\n",
    "    bp: 1068\n",
    "    \n",
    "Sequência\\\n",
    "    id_seq\\\n",
    "    len_seq: 1068 bp\n",
    "\n",
    "Features\\\n",
    "    id_features\\\n",
    "    tamanho: 1\\\n",
    "    location\\\n",
    "    type\\\n",
    "        CDS: 0\\\n",
    "        gene: 0\n",
    "\n",
    "Reference\\\n",
    "    id_reference\\\n",
    "    journal\\\n",
    "    title:\\\n",
    "        Large-scale genomic sequencing of extraintestinal pathogenic Escherichia coli strains \\\n",
    "        Direct Submission \\\n",
    "    author\n",
    "    \n",
    "Anotations\\\n",
    "    id_anotations\\\n",
    "    tamanho das anotations: 13\\\n",
    "    source: Escherichia coli\\\n",
    "    letter_anotations: {} \\\n",
    "    organism: Escherichia coli\\\n",
    "    taxonomy: 'Bacteria', 'Proteobacteria', 'Gammaproteobacteria', 'Enterobacterales', 'Enterobacteriaceae', 'Escherichia'\\\n",
    "    mol_type: DNA\\\n",
    "    keywords: 'molecule_type', 'topology', 'data_file_division', 'date', 'accessions', 'sequence_version', 'keywords', 'source', 'organism', 'taxonomy', 'references', 'comment', 'structured_comment'\\\n",
    "    accessions: JSJU01002366, JSJU01000000\n",
    "    \n",
    "dbxrefs: BioProject:PRJNA248737, BioSample:SAMN02802072"
   ]
  }
 ],
 "metadata": {
  "kernelspec": {
   "display_name": "Python 3 (ipykernel)",
   "language": "python",
   "name": "python3"
  },
  "language_info": {
   "codemirror_mode": {
    "name": "ipython",
    "version": 3
   },
   "file_extension": ".py",
   "mimetype": "text/x-python",
   "name": "python",
   "nbconvert_exporter": "python",
   "pygments_lexer": "ipython3",
   "version": "3.9.12"
  }
 },
 "nbformat": 4,
 "nbformat_minor": 5
}
