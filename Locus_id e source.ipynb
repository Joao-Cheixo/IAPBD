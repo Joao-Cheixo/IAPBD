{
 "cells": [
  {
   "cell_type": "markdown",
   "id": "c2e9cf2c",
   "metadata": {},
   "source": [
    "Dado um ficheiro genbank vai buscar o locus_id e source"
   ]
  },
  {
   "cell_type": "code",
   "execution_count": null,
   "id": "88bda3f6",
   "metadata": {},
   "outputs": [],
   "source": [
    "import re\n",
    "\n",
    "flag = False\n",
    "source = \"\"\n",
    "locusid = \"\"\n",
    "fonte = open()#\"GQ918137.1.gb\",'r')\n",
    "# fonte = open(\"../genbank/L42023.1.gb\",'r')\n",
    "for linha in fonte:\n",
    "    if re.search(r\"^LOCUS\", linha):\n",
    "        s = re.match(r\"LOCUS\\s+([^ ]+)\", linha)\n",
    "        if s:\n",
    "            # print( s.group(1) )\n",
    "            locusid = s.group(1)    \n",
    "    if re.search(r\"^SOURCE\", linha):\n",
    "        s = re.match(r\"SOURCE\\s+(.+)\", linha)\n",
    "        if s:\n",
    "            # print( s.group(1) )\n",
    "            source = s.group(1)\n",
    "    if re.search(r\"//\", linha):\n",
    "        flag = False  \n",
    "    if re.search(r\"ORIGIN\", linha):\n",
    "        flag = True\n",
    "fonte.close()\n",
    "print( locusid, source)"
   ]
  }
 ],
 "metadata": {
  "kernelspec": {
   "display_name": "Python 3 (ipykernel)",
   "language": "python",
   "name": "python3"
  },
  "language_info": {
   "codemirror_mode": {
    "name": "ipython",
    "version": 3
   },
   "file_extension": ".py",
   "mimetype": "text/x-python",
   "name": "python",
   "nbconvert_exporter": "python",
   "pygments_lexer": "ipython3",
   "version": "3.9.12"
  }
 },
 "nbformat": 4,
 "nbformat_minor": 5
}
