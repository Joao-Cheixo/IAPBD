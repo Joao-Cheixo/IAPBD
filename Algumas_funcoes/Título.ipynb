{
 "cells": [
  {
   "cell_type": "markdown",
   "id": "30336386",
   "metadata": {},
   "source": [
    "Dado um ficheiro genbank vai buscar o título"
   ]
  },
  {
   "cell_type": "code",
   "execution_count": null,
   "id": "538fd268",
   "metadata": {},
   "outputs": [],
   "source": [
    "import re\n",
    "\n",
    "fonte = open()#\"GQ918137.1.gb\",'r')\n",
    "locus = fonte.read()\n",
    "fonte.close()\n",
    "print( locus )"
   ]
  },
  {
   "cell_type": "code",
   "execution_count": null,
   "id": "c01740d4",
   "metadata": {},
   "outputs": [],
   "source": [
    "existe = re.findall(r'TITLE\\s+.*?(?=JOURNAL)', locus, re.DOTALL)\n",
    "if existe:\n",
    "    for title in existe:\n",
    "        m = re.match( r'TITLE\\s+(.+)', title, re.DOTALL )\n",
    "        # print( m.group(1) )\n",
    "        print( re.sub(r'\\s+', ' ', m.group(1) ) )"
   ]
  }
 ],
 "metadata": {
  "kernelspec": {
   "display_name": "Python 3 (ipykernel)",
   "language": "python",
   "name": "python3"
  },
  "language_info": {
   "codemirror_mode": {
    "name": "ipython",
    "version": 3
   },
   "file_extension": ".py",
   "mimetype": "text/x-python",
   "name": "python",
   "nbconvert_exporter": "python",
   "pygments_lexer": "ipython3",
   "version": "3.9.12"
  }
 },
 "nbformat": 4,
 "nbformat_minor": 5
}
