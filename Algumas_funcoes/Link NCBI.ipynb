{
 "cells": [
  {
   "cell_type": "markdown",
   "id": "88e2bdf9",
   "metadata": {},
   "source": [
    "Dado um ficheiro genbank vai buscar o link"
   ]
  },
  {
   "cell_type": "code",
   "execution_count": 1,
   "id": "a61f2572",
   "metadata": {},
   "outputs": [
    {
     "ename": "NameError",
     "evalue": "name 'locus' is not defined",
     "output_type": "error",
     "traceback": [
      "\u001b[1;31m---------------------------------------------------------------------------\u001b[0m",
      "\u001b[1;31mNameError\u001b[0m                                 Traceback (most recent call last)",
      "Input \u001b[1;32mIn [1]\u001b[0m, in \u001b[0;36m<cell line: 3>\u001b[1;34m()\u001b[0m\n\u001b[0;32m      1\u001b[0m \u001b[38;5;28;01mimport\u001b[39;00m \u001b[38;5;21;01mre\u001b[39;00m\n\u001b[1;32m----> 3\u001b[0m existe \u001b[38;5;241m=\u001b[39m re\u001b[38;5;241m.\u001b[39msearch(\u001b[38;5;124mr\u001b[39m\u001b[38;5;124m'\u001b[39m\u001b[38;5;124mACCESSION\u001b[39m\u001b[38;5;124m\\\u001b[39m\u001b[38;5;124ms+[^\u001b[39m\u001b[38;5;124m\\\u001b[39m\u001b[38;5;124ms]+\u001b[39m\u001b[38;5;124m'\u001b[39m, \u001b[43mlocus\u001b[49m)\n\u001b[0;32m      4\u001b[0m \u001b[38;5;28;01mif\u001b[39;00m existe:\n\u001b[0;32m      5\u001b[0m     \u001b[38;5;66;03m# print( existe[0] )\u001b[39;00m\n\u001b[0;32m      6\u001b[0m     m \u001b[38;5;241m=\u001b[39m re\u001b[38;5;241m.\u001b[39mmatch(\u001b[38;5;124mr\u001b[39m\u001b[38;5;124m'\u001b[39m\u001b[38;5;124mACCESSION\u001b[39m\u001b[38;5;124m\\\u001b[39m\u001b[38;5;124ms+([^\u001b[39m\u001b[38;5;124m\\\u001b[39m\u001b[38;5;124ms]+)\u001b[39m\u001b[38;5;124m'\u001b[39m, existe[\u001b[38;5;241m0\u001b[39m] )\n",
      "\u001b[1;31mNameError\u001b[0m: name 'locus' is not defined"
     ]
    }
   ],
   "source": [
    "import re\n",
    "\n",
    "fonte = open()#ficheiro.gb\",'r')\n",
    "locus = fonte.read()\n",
    "fonte.close()\n",
    "print( locus )\n",
    "\n",
    "existe = re.search(r'ACCESSION\\s+[^\\s]+', locus)\n",
    "if existe:\n",
    "    # print( existe[0] )\n",
    "    m = re.match(r'ACCESSION\\s+([^\\s]+)', existe[0] )\n",
    "    if m:\n",
    "        id = m.group(1)\n",
    "        print( \"https://www.ncbi.nlm.nih.gov/nuccore/{}\".format( id ) )\n",
    "else:\n",
    "    print( \"Padrão não encontrado\" )"
   ]
  }
 ],
 "metadata": {
  "kernelspec": {
   "display_name": "Python 3 (ipykernel)",
   "language": "python",
   "name": "python3"
  },
  "language_info": {
   "codemirror_mode": {
    "name": "ipython",
    "version": 3
   },
   "file_extension": ".py",
   "mimetype": "text/x-python",
   "name": "python",
   "nbconvert_exporter": "python",
   "pygments_lexer": "ipython3",
   "version": "3.9.12"
  }
 },
 "nbformat": 4,
 "nbformat_minor": 5
}
