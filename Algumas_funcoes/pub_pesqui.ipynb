{
 "cells": [
  {
   "attachments": {},
   "cell_type": "markdown",
   "metadata": {},
   "source": [
    "Permite obter um link resultante da pesquisa de qualquer termo na pubmed (apenas uma palavra)"
   ]
  },
  {
   "cell_type": "code",
   "execution_count": null,
   "metadata": {},
   "outputs": [],
   "source": [
    "import re\n",
    "\n",
    "def url(item):\n",
    "    urls = []\n",
    "    url = \"https://pubmed.ncbi.nlm.nih.gov//?term={}\".format(item)\n",
    "    urls.append(url)\n",
    "    return urls\n",
    "\n",
    "def validar(item):\n",
    "    return re.match(r'[\\d|a-z|A-Z]+(\\_?[\\d|a-z|A-Z]+)*', item)    \n",
    "\n",
    "query = input(\"term you pretend to search \")\n",
    "try:\n",
    "    \n",
    "    if not validar(query):\n",
    "        raise Exception\n",
    "    else:   \n",
    "        print(url(query))\n",
    "\n",
    "except Exception:\n",
    "    print(f'ERROR This is what you inserted:\"{query}\"')"
   ]
  }
 ],
 "metadata": {
  "kernelspec": {
   "display_name": "Python 3",
   "language": "python",
   "name": "python3"
  },
  "language_info": {
   "name": "python",
   "version": "3.8.0 (tags/v3.8.0:fa919fd, Oct 14 2019, 19:37:50) [MSC v.1916 64 bit (AMD64)]"
  },
  "orig_nbformat": 4,
  "vscode": {
   "interpreter": {
    "hash": "e5b5f01f76a4be19bed6c4d930de4bdf4e6ad782e614d5884b1b3a3b4ec5528b"
   }
  }
 },
 "nbformat": 4,
 "nbformat_minor": 2
}
