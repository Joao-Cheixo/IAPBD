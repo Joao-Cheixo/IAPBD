{
 "cells": [
  {
   "cell_type": "markdown",
   "id": "6bd73952",
   "metadata": {},
   "source": [
    "# Módulo povoar (python + SQL)"
   ]
  },
  {
   "cell_type": "code",
   "execution_count": 1,
   "id": "e20332cc",
   "metadata": {
    "scrolled": true
   },
   "outputs": [
    {
     "name": "stdout",
     "output_type": "stream",
     "text": [
      "Requirement already satisfied: mysql-connector-python in c:\\users\\mariana\\anaconda3\\lib\\site-packages (8.0.31)\n",
      "Requirement already satisfied: protobuf<=3.20.1,>=3.11.0 in c:\\users\\mariana\\anaconda3\\lib\\site-packages (from mysql-connector-python) (3.19.1)\n",
      "Note: you may need to restart the kernel to use updated packages.\n"
     ]
    }
   ],
   "source": [
    "pip install mysql-connector-python"
   ]
  },
  {
   "cell_type": "code",
   "execution_count": 50,
   "id": "9e7da7cb",
   "metadata": {},
   "outputs": [],
   "source": [
    "import mysql\n",
    "import mysql.connector\n",
    "from mysql.connector import Error\n",
    "import pandas as pd \n",
    "import mysql.connector as SQLC"
   ]
  },
  {
   "cell_type": "code",
   "execution_count": 51,
   "id": "e592ecab",
   "metadata": {},
   "outputs": [],
   "source": [
    "from Bio import SeqIO\n",
    "from Bio.Seq import Seq\n",
    "from Bio.SeqRecord import SeqRecord\n",
    "from Bio import SeqFeature"
   ]
  },
  {
   "cell_type": "code",
   "execution_count": 52,
   "id": "25678c90",
   "metadata": {},
   "outputs": [],
   "source": [
    "def create_server_connection(host_name, user_name, user_password):\n",
    "    connection = None\n",
    "    try:\n",
    "        connection = mysql.connector.connect(\n",
    "            host=host_name,\n",
    "            user=user_name,\n",
    "            passwd=user_password\n",
    "        )\n",
    "        print(\"MySQL Database connection successful\")\n",
    "    except Error as err:\n",
    "        print(f\"Error: '{err}'\")\n",
    "\n",
    "    return connection"
   ]
  },
  {
   "cell_type": "code",
   "execution_count": 53,
   "id": "c5e227ad",
   "metadata": {},
   "outputs": [
    {
     "name": "stdout",
     "output_type": "stream",
     "text": [
      "MySQL Database connection successful\n"
     ]
    }
   ],
   "source": [
    "pw = '20221207'\n",
    "\n",
    "connection = create_server_connection('geo.di.uminho.pt', 'bioinformatica', pw)"
   ]
  },
  {
   "cell_type": "code",
   "execution_count": 54,
   "id": "3c6dd607",
   "metadata": {},
   "outputs": [],
   "source": [
    "def create_db_connection(host_name, user_name, user_password, db_name):\n",
    "    connection = None\n",
    "    try:\n",
    "        connection = mysql.connector.connect(\n",
    "            host=host_name,\n",
    "            user=user_name,\n",
    "            passwd=user_password,\n",
    "            database=db_name\n",
    "        )\n",
    "        print(\"MySQL Database connection successful\")\n",
    "    except Error as err:\n",
    "        print(f\"Error: '{err}'\")\n",
    "\n",
    "    return connection"
   ]
  },
  {
   "cell_type": "code",
   "execution_count": 55,
   "id": "05e617db",
   "metadata": {},
   "outputs": [
    {
     "name": "stdout",
     "output_type": "stream",
     "text": [
      "MySQL Database connection successful\n"
     ]
    }
   ],
   "source": [
    "pw = '20221207'\n",
    "db = 'mmj'\n",
    "\n",
    "connection_db = create_db_connection('geo.di.uminho.pt', 'bioinformatica', pw, db)"
   ]
  },
  {
   "cell_type": "code",
   "execution_count": 56,
   "id": "aa104374",
   "metadata": {},
   "outputs": [],
   "source": [
    "def execute_query(connection, query):\n",
    "    cursor = connection.cursor()\n",
    "    try:\n",
    "        cursor.execute(query)\n",
    "        connection.commit()\n",
    "        print(\"Query successful\")\n",
    "    except Error as err:\n",
    "        print(f\"Error: '{err}'\")"
   ]
  },
  {
   "cell_type": "code",
   "execution_count": 57,
   "id": "bd4e86c0",
   "metadata": {},
   "outputs": [],
   "source": [
    "DataBase = SQLC.connect(\n",
    "    host = 'geo.di.uminho.pt',\n",
    "    user = 'bioinformatica',\n",
    "    password = '20221207',\n",
    "        database = 'mmj')\n",
    "\n",
    "Cursor = DataBase.cursor()"
   ]
  },
  {
   "cell_type": "code",
   "execution_count": 245,
   "id": "baffc16e",
   "metadata": {},
   "outputs": [],
   "source": [
    "import re\n",
    "\n",
    "fonte = open(\"Spyogenes.gb\",'r')\n",
    "org = fonte.read()\n",
    "fonte.close()"
   ]
  },
  {
   "cell_type": "code",
   "execution_count": 246,
   "id": "4451891d",
   "metadata": {},
   "outputs": [],
   "source": [
    "def povoar_locus(org):\n",
    "    org = SeqIO.read(\"Spyogenes.gb\", \"genbank\")\n",
    "    id_l = org.name\n",
    "    bp = len(org)\n",
    "    sql_locus = f\"INSERT INTO locus (bp, id_l) VALUES('{bp}','{id_l}')\"\n",
    "    print(sql_locus)\n",
    "    Cursor.execute(sql_locus)\n",
    "    DataBase.commit()"
   ]
  },
  {
   "cell_type": "code",
   "execution_count": 247,
   "id": "276f6e4e",
   "metadata": {},
   "outputs": [
    {
     "name": "stdout",
     "output_type": "stream",
     "text": [
      "INSERT INTO locus (bp, id_l) VALUES('1948','CDGQ01000079')\n"
     ]
    }
   ],
   "source": [
    "povoar_locus(org)"
   ]
  },
  {
   "cell_type": "code",
   "execution_count": 248,
   "id": "e83e00ac",
   "metadata": {},
   "outputs": [],
   "source": [
    "org = SeqIO.read(\"Spyogenes.gb\", \"genbank\")\n",
    "id_l = org.name\n",
    "bp = len(org)"
   ]
  },
  {
   "cell_type": "code",
   "execution_count": 249,
   "id": "8d2bcf06",
   "metadata": {},
   "outputs": [],
   "source": [
    "len_seq = len(org)"
   ]
  },
  {
   "cell_type": "code",
   "execution_count": 250,
   "id": "44d1583c",
   "metadata": {},
   "outputs": [
    {
     "name": "stdout",
     "output_type": "stream",
     "text": [
      "INSERT INTO sequencia (len_seq) VALUES ('1948')\n"
     ]
    }
   ],
   "source": [
    "sql_sequencia = f\"INSERT INTO sequencia (len_seq) VALUES ('{len_seq}')\"\n",
    "\n",
    "print(sql_sequencia)\n",
    "\n",
    "Cursor.execute(sql_sequencia)\n",
    "\n",
    "DataBase.commit()"
   ]
  },
  {
   "cell_type": "code",
   "execution_count": 251,
   "id": "b4a1be5b",
   "metadata": {},
   "outputs": [
    {
     "name": "stdout",
     "output_type": "stream",
     "text": [
      "[0:1948](+)\n",
      "1\n"
     ]
    }
   ],
   "source": [
    "#features\n",
    "tamanho = len(org.features)\n",
    "\n",
    "CDS = [] \n",
    "for i in range(len(org.features)):\n",
    "    if org.features[i].type=='CDS':\n",
    "        CDS.append(i)\n",
    "for k in CDS:\n",
    "    print(org.features[k].location)\n",
    "    print(len(CDS))\n",
    "\n",
    "gene = [] \n",
    "for j in range(len(org.features)):\n",
    "    if org.features[j].type=='gene':\n",
    "        gene.append(j)\n",
    "for a in gene:\n",
    "    print(org.features[a].location)\n",
    "    print(len(gene))\n",
    "\n",
    "mobile_element = [] \n",
    "for f in range(len(org.features)):\n",
    "    if org.features[f].type=='mobile_element':\n",
    "        mobile_element.append(f)\n",
    "for b in mobile_element:\n",
    "    print(org.features[b].location)\n",
    "    print(len(mobile_element))\n",
    "    \n",
    "fsource = [] \n",
    "for m in range(len(org.features)):\n",
    "    if org.features[m].type=='source':\n",
    "        fsource.append(m)\n",
    "for a in fsource:\n",
    "    print(org.features[a].location)\n",
    "    print(len(fsource))\n",
    "\n",
    "repeat = [] \n",
    "for m in range(len(org.features)):\n",
    "    if org.features[m].type=='repeat_region':\n",
    "        repeat.append(m)\n",
    "for a in repeat:\n",
    "    print(org.features[a].location)\n",
    "    print(len(repeat))\n",
    "    \n",
    "misc = [] \n",
    "for m in range(len(org.features)):\n",
    "    if org.features[m].type=='misc_feature':\n",
    "        misc.append(m)\n",
    "for a in misc:\n",
    "    print(org.features[a].location)\n",
    "    print(len(misc))"
   ]
  },
  {
   "cell_type": "code",
   "execution_count": 252,
   "id": "b1f248b6",
   "metadata": {},
   "outputs": [
    {
     "name": "stdout",
     "output_type": "stream",
     "text": [
      "INSERT INTO features (tamanho, CDS, gene, mobile_element, misc, repeat_region, fsource) VALUES ('1','','','','','','0')\n"
     ]
    }
   ],
   "source": [
    "sql_features = f\"INSERT INTO features (tamanho, CDS, gene, mobile_element, misc, repeat_region, fsource) VALUES ('{tamanho}','{';'.join(str(c) for c in CDS)}','{';'.join(str(g) for g in gene)}','{';'.join(str(me) for me in mobile_element)}','{';'.join(str(mi) for mi in misc)}','{';'.join(str(r) for r in repeat)}','{';'.join(str(fs) for fs in fsource)}')\"\n",
    "\n",
    "print(sql_features)\n",
    "\n",
    "Cursor.execute(sql_features)\n",
    "\n",
    "DataBase.commit()"
   ]
  },
  {
   "cell_type": "code",
   "execution_count": 253,
   "id": "094cf8c5",
   "metadata": {},
   "outputs": [
    {
     "name": "stdout",
     "output_type": "stream",
     "text": [
      "Direct Submission \n"
     ]
    }
   ],
   "source": [
    "fonte = open(\"Spyogenes.gb\",'r')\n",
    "org = fonte.read()\n",
    "fonte.close()\n",
    "t = '' \n",
    "titulo = re.findall(r'TITLE\\s+.*?(?=JOURNAL)', org, re.DOTALL)\n",
    "if titulo:\n",
    "    for title in titulo:\n",
    "        m = re.match( r'TITLE\\s+(.+)', title, re.DOTALL )\n",
    "        t = t + re.sub(r'\\s+', ' ', m.group(1) ) \n",
    "print(t)"
   ]
  },
  {
   "cell_type": "code",
   "execution_count": 254,
   "id": "cdf7918f",
   "metadata": {},
   "outputs": [
    {
     "name": "stdout",
     "output_type": "stream",
     "text": [
      "Submitted (13-NOV-2014) IZLSLER, Sezione di Parma, Sezione di Parma, IZSLER, Strada Mercati 13/A, 43126, Italy \n"
     ]
    }
   ],
   "source": [
    "fonte = open(\"Spyogenes.gb\",'r')\n",
    "org = fonte.read()\n",
    "fonte.close()\n",
    "j = ''\n",
    "jou = re.findall(r'JOURNAL\\s+.*?(?=PUBMED|REFERENCE|FEATURES|COMMENT)', org, re.DOTALL)\n",
    "if jou:\n",
    "    for journal in jou:\n",
    "        m = re.match( r'JOURNAL\\s+(.+)', journal, re.DOTALL )\n",
    "        j = j + re.sub(r'\\s+', ' ', m.group(1) ) \n",
    "print(j)"
   ]
  },
  {
   "cell_type": "code",
   "execution_count": 255,
   "id": "a39a21b2",
   "metadata": {},
   "outputs": [
    {
     "name": "stdout",
     "output_type": "stream",
     "text": [
      "INSERT INTO reference (title, journal) VALUES ('Direct Submission ','Submitted (13-NOV-2014) IZLSLER, Sezione di Parma, Sezione di Parma, IZSLER, Strada Mercati 13/A, 43126, Italy ')\n"
     ]
    }
   ],
   "source": [
    "sql_reference = f\"INSERT INTO reference (title, journal) VALUES ('{t}','{j}')\"\n",
    "\n",
    "print(sql_reference)\n",
    "\n",
    "Cursor.execute(sql_reference)\n",
    "\n",
    "DataBase.commit()"
   ]
  },
  {
   "cell_type": "code",
   "execution_count": 256,
   "id": "b9b30a60",
   "metadata": {},
   "outputs": [
    {
     "name": "stdout",
     "output_type": "stream",
     "text": [
      "Pongolini,Stefano., Casadei,Gabriele. and Scaltriti,Erika. \n"
     ]
    }
   ],
   "source": [
    "fonte = open(\"Spyogenes.gb\",'r')\n",
    "org = fonte.read()\n",
    "fonte.close()\n",
    "filiacao = ''\n",
    "f = re.findall(r'AUTHORS\\s+.*?(?=TITLE)', org, re.DOTALL)\n",
    "if f:\n",
    "    for auth in f:\n",
    "        m = re.match( r'AUTHORS\\s+(.+)', auth, re.DOTALL )\n",
    "        filiacao = filiacao + re.sub(r'\\s+', ' ', m.group(1))\n",
    "print(filiacao)"
   ]
  },
  {
   "cell_type": "code",
   "execution_count": 257,
   "id": "138ce537",
   "metadata": {},
   "outputs": [
    {
     "name": "stdout",
     "output_type": "stream",
     "text": [
      "INSERT INTO autor (filiacao) VALUES ('Pongolini,Stefano., Casadei,Gabriele. and Scaltriti,Erika. ')\n"
     ]
    }
   ],
   "source": [
    "sql_autor = f\"INSERT INTO autor (filiacao) VALUES ('{filiacao}')\"\n",
    "\n",
    "print(sql_autor)\n",
    "\n",
    "Cursor.execute(sql_autor)\n",
    "\n",
    "DataBase.commit()"
   ]
  },
  {
   "cell_type": "code",
   "execution_count": 258,
   "id": "bce32402",
   "metadata": {},
   "outputs": [],
   "source": [
    "#annotations\n",
    "org = SeqIO.read(\"Spyogenes.gb\", \"genbank\")\n",
    "\n",
    "len_annotations = len(org.annotations) \n",
    "source = org.annotations[\"source\"]\n",
    "letter_annotations = org.letter_annotations\n",
    "organism = org.annotations[\"organism\"] \n",
    "taxonomy = org.annotations[\"taxonomy\"] \n",
    "mol_type = org.annotations['molecule_type']\n",
    "accessions = org.annotations['accessions'] \n",
    "keywords = org.annotations.keys() "
   ]
  },
  {
   "cell_type": "code",
   "execution_count": 259,
   "id": "a4150022",
   "metadata": {},
   "outputs": [
    {
     "name": "stdout",
     "output_type": "stream",
     "text": [
      "INSERT INTO annotations (keywords, accessions, mol_type, organism, letter_annotations, source, taxonomy, len_annotations) VALUES ('molecule_type;topology;data_file_division;date;accessions;sequence_version;keywords;source;organism;taxonomy;references', 'CDGQ01000079;CDGQ01000000','DNA','Streptococcus pyogenes serotype M18','{}', 'Streptococcus pyogenes serotype M18','Bacteria; Bacillota; Bacilli; Lactobacillales; Streptococcaceae; Streptococcus', '11')\n"
     ]
    }
   ],
   "source": [
    "sql_annotations = f\"INSERT INTO annotations (keywords, accessions, mol_type, organism, letter_annotations, source, taxonomy, len_annotations) VALUES ('{';'.join(keywords)}', '{';'.join(accessions)}','{mol_type}','{organism}','{letter_annotations}', '{source}','{'; '.join(taxonomy)}', '{len_annotations}')\"\n",
    "\n",
    "print(sql_annotations)\n",
    "\n",
    "Cursor.execute(sql_annotations)\n",
    "\n",
    "DataBase.commit()"
   ]
  },
  {
   "cell_type": "code",
   "execution_count": 260,
   "id": "5b54d026",
   "metadata": {},
   "outputs": [
    {
     "name": "stdout",
     "output_type": "stream",
     "text": [
      "Streptococcus pyogenes serotype M18\n"
     ]
    }
   ],
   "source": [
    "import re\n",
    "fonte = open(\"Spyogenes.gb\",'r')\n",
    "org = fonte.read()\n",
    "fonte.close()\n",
    "\n",
    "link_NCBI = ''\n",
    "link = re.search(r'ACCESSION\\s+[^\\s]+', org)\n",
    "if link:\n",
    "    m = re.match(r'ACCESSION\\s+([^\\s]+)', link[0] )\n",
    "    if m:\n",
    "        id = m.group(1)\n",
    "        link_NCBI = link_NCBI + \"https://www.ncbi.nlm.nih.gov/nuccore/{}\".format( id ) \n",
    "else:\n",
    "    print( \"Padrão não encontrado\" )\n",
    "\n",
    "    \n",
    "org = SeqIO.read(\"Spyogenes.gb\", \"genbank\")\n",
    "\n",
    "id = org.id\n",
    "\n",
    "descricao = org.description\n",
    " \n",
    "flag = False\n",
    "nome = \"\"\n",
    "fonte = open(\"Spyogenes.gb\",'r')\n",
    "for linha in fonte:   \n",
    "    if re.search(r\"^SOURCE\", linha):\n",
    "        s = re.match(r\"SOURCE\\s+(.+)\", linha)\n",
    "        if s:\n",
    "            nome = s.group(1)\n",
    "    if re.search(r\"//\", linha):\n",
    "        flag = False  \n",
    "fonte.close()\n",
    "print(nome)"
   ]
  },
  {
   "cell_type": "code",
   "execution_count": 261,
   "id": "725ba2cf",
   "metadata": {},
   "outputs": [
    {
     "name": "stdout",
     "output_type": "stream",
     "text": [
      "['https://pubmed.ncbi.nlm.nih.gov//?term=Streptococcus pyogenes serotype M18']\n"
     ]
    }
   ],
   "source": [
    "import re\n",
    "\n",
    "def url(item):\n",
    "    urls = []\n",
    "    url = \"https://pubmed.ncbi.nlm.nih.gov//?term={}\".format(item)\n",
    "    urls.append(url)\n",
    "    return urls\n",
    "\n",
    "def validar(item):\n",
    "    return re.match(r'[\\d|a-z|A-Z]+(\\_?[\\d|a-z|A-Z]+)*', item)    \n",
    "\n",
    "query = nome\n",
    "try:\n",
    "    \n",
    "    if not validar(query):\n",
    "        raise Exception\n",
    "    else:   \n",
    "        print(url(query))\n",
    "\n",
    "except Exception:\n",
    "    print(f'ERROR This is what you inserted:\"{query}\"')\n",
    "    \n",
    "link_pubmed = url(query)"
   ]
  },
  {
   "cell_type": "code",
   "execution_count": 262,
   "id": "b6e9afce",
   "metadata": {},
   "outputs": [
    {
     "name": "stdout",
     "output_type": "stream",
     "text": [
      "INSERT INTO bacterias (id, link_NCBI, descricao, nome, link_pubmed) VALUES ('CDGQ01000079.1','https://www.ncbi.nlm.nih.gov/nuccore/CDGQ01000079','Streptococcus pyogenes serotype M18 genome assembly M18GASBO5, contig M18GASBO5_82, whole genome shotgun sequence','Streptococcus pyogenes serotype M18','https://pubmed.ncbi.nlm.nih.gov//?term=Streptococcus pyogenes serotype M18')\n"
     ]
    }
   ],
   "source": [
    "sql_bacterias = f\"INSERT INTO bacterias (id, link_NCBI, descricao, nome, link_pubmed) VALUES ('{id}','{link_NCBI}','{descricao}','{nome}','{';'.join(link_pubmed)}')\"\n",
    "\n",
    "print(sql_bacterias)\n",
    "\n",
    "Cursor.execute(sql_bacterias)\n",
    "\n",
    "DataBase.commit()"
   ]
  }
 ],
 "metadata": {
  "kernelspec": {
   "display_name": "Python 3 (ipykernel)",
   "language": "python",
   "name": "python3"
  },
  "language_info": {
   "codemirror_mode": {
    "name": "ipython",
    "version": 3
   },
   "file_extension": ".py",
   "mimetype": "text/x-python",
   "name": "python",
   "nbconvert_exporter": "python",
   "pygments_lexer": "ipython3",
   "version": "3.9.12"
  }
 },
 "nbformat": 4,
 "nbformat_minor": 5
}
