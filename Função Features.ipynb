{
 "cells": [
  {
   "cell_type": "markdown",
   "id": "20766d1d",
   "metadata": {},
   "source": [
    "Função que lê um registo de um ficheiro Genbank\n",
    "(com o nome passado por argumento) e retorna uma lista de features, onde cada feature é\n",
    "representada por um tuplo com: tipo (e.g. “source”), uma string indicando\n",
    "localização e um dicionário com os “qualifiers” da feature"
   ]
  },
  {
   "cell_type": "code",
   "execution_count": 1,
   "id": "ef6b9f0c",
   "metadata": {},
   "outputs": [],
   "source": [
    "import re\n",
    "\n",
    "def read_genbank(file):\n",
    "    from re import search\n",
    "    with open(file, 'r') as fh:\n",
    "        gen = [l.strip() for l in fh.readlines()]\n",
    "        for line in gen:\n",
    "            if 'DEFINITION' in line:\n",
    "                definition = search(r'DEFINITION\\s+(.+)', line).group(1)\n",
    "            if 'ACCESSION' in line:\n",
    "                accession = search(r'ACCESSION\\s+([A-Z]+_\\d+)', line).group(1)\n",
    "            if 'source' in line:\n",
    "                size = search(r'(\\d+)\\.\\.(\\d+)', line).group(2)\n",
    "            if '/organism=' in line:\n",
    "                organism = search(r'/organism=\"(.+)\"', line).group(1)\n",
    "            if 'ORIGIN' in line:\n",
    "                start = gen.index(line)\n",
    "                end = gen.index(r'//')\n",
    "                seq = \"\"\n",
    "                for i in range(start+1, end):\n",
    "                    split_line = gen[i].split()\n",
    "                    seq += ''.join([split_line[i] for i in range(1,len(split_line))])\n",
    "    return accession, size, definition, organism, seq"
   ]
  }
 ],
 "metadata": {
  "kernelspec": {
   "display_name": "Python 3 (ipykernel)",
   "language": "python",
   "name": "python3"
  },
  "language_info": {
   "codemirror_mode": {
    "name": "ipython",
    "version": 3
   },
   "file_extension": ".py",
   "mimetype": "text/x-python",
   "name": "python",
   "nbconvert_exporter": "python",
   "pygments_lexer": "ipython3",
   "version": "3.9.12"
  }
 },
 "nbformat": 4,
 "nbformat_minor": 5
}
